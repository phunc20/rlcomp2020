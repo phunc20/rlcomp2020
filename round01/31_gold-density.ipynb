{
 "cells": [
  {
   "cell_type": "code",
   "execution_count": 1,
   "metadata": {},
   "outputs": [],
   "source": [
    "%reload_ext autoreload\n",
    "%autoreload 2\n",
    "%matplotlib inline"
   ]
  },
  {
   "cell_type": "code",
   "execution_count": 4,
   "metadata": {},
   "outputs": [],
   "source": [
    "import cv2\n",
    "from scipy.ndimage import gaussian_filter\n",
    "import numpy as np"
   ]
  },
  {
   "cell_type": "code",
   "execution_count": null,
   "metadata": {},
   "outputs": [],
   "source": []
  },
  {
   "cell_type": "code",
   "execution_count": 2,
   "metadata": {},
   "outputs": [
    {
     "name": "stdout",
     "output_type": "stream",
     "text": [
      "Help on built-in function GaussianBlur:\n",
      "\n",
      "GaussianBlur(...)\n",
      "    GaussianBlur(src, ksize, sigmaX[, dst[, sigmaY[, borderType]]]) -> dst\n",
      "    .   @brief Blurs an image using a Gaussian filter.\n",
      "    .   \n",
      "    .   The function convolves the source image with the specified Gaussian kernel. In-place filtering is\n",
      "    .   supported.\n",
      "    .   \n",
      "    .   @param src input image; the image can have any number of channels, which are processed\n",
      "    .   independently, but the depth should be CV_8U, CV_16U, CV_16S, CV_32F or CV_64F.\n",
      "    .   @param dst output image of the same size and type as src.\n",
      "    .   @param ksize Gaussian kernel size. ksize.width and ksize.height can differ but they both must be\n",
      "    .   positive and odd. Or, they can be zero's and then they are computed from sigma.\n",
      "    .   @param sigmaX Gaussian kernel standard deviation in X direction.\n",
      "    .   @param sigmaY Gaussian kernel standard deviation in Y direction; if sigmaY is zero, it is set to be\n",
      "    .   equal to sigmaX, if both sigmas are zeros, they are computed from ksize.width and ksize.height,\n",
      "    .   respectively (see #getGaussianKernel for details); to fully control the result regardless of\n",
      "    .   possible future modifications of all this semantics, it is recommended to specify all of ksize,\n",
      "    .   sigmaX, and sigmaY.\n",
      "    .   @param borderType pixel extrapolation method, see #BorderTypes. #BORDER_WRAP is not supported.\n",
      "    .   \n",
      "    .   @sa  sepFilter2D, filter2D, blur, boxFilter, bilateralFilter, medianBlur\n",
      "\n"
     ]
    }
   ],
   "source": [
    "help(cv2.GaussianBlur)"
   ]
  },
  {
   "cell_type": "markdown",
   "metadata": {},
   "source": [
    "$G_i= \\alpha *e^{-(i-( \\texttt{ksize} -1)/2)^2/(2* \\texttt{sigma}^2)}$"
   ]
  },
  {
   "cell_type": "code",
   "execution_count": 9,
   "metadata": {},
   "outputs": [
    {
     "name": "stdout",
     "output_type": "stream",
     "text": [
      "[ 0  2  4  6  8 10 12 14 16 18 20 22]\n",
      "[[ 0  2  4  6]\n",
      " [ 8 10 12 14]\n",
      " [16 18 20 22]]\n"
     ]
    }
   ],
   "source": [
    "A = np.arange(24,step=2)\n",
    "B = A.reshape((3, A.size//3))\n",
    "print(A)\n",
    "print(B)"
   ]
  },
  {
   "cell_type": "code",
   "execution_count": 19,
   "metadata": {},
   "outputs": [
    {
     "ename": "error",
     "evalue": "OpenCV(4.4.0) /tmp/pip-req-build-civioau0/opencv/modules/imgproc/src/filter.simd.hpp:2922: error: (-213:The function/feature is not implemented) Unsupported combination of source format (=4), and buffer format (=5) in function 'getLinearRowFilter'\n",
     "output_type": "error",
     "traceback": [
      "\u001b[0;31m---------------------------------------------------------------------------\u001b[0m",
      "\u001b[0;31merror\u001b[0m                                     Traceback (most recent call last)",
      "\u001b[0;32m<ipython-input-19-2c1221f1f377>\u001b[0m in \u001b[0;36m<module>\u001b[0;34m\u001b[0m\n\u001b[0;32m----> 1\u001b[0;31m \u001b[0mcv2\u001b[0m\u001b[0;34m.\u001b[0m\u001b[0mGaussianBlur\u001b[0m\u001b[0;34m(\u001b[0m\u001b[0mB\u001b[0m\u001b[0;34m,\u001b[0m \u001b[0;34m(\u001b[0m\u001b[0;36m3\u001b[0m\u001b[0;34m,\u001b[0m\u001b[0;36m3\u001b[0m\u001b[0;34m)\u001b[0m\u001b[0;34m,\u001b[0m \u001b[0;36m0\u001b[0m\u001b[0;34m)\u001b[0m\u001b[0;34m\u001b[0m\u001b[0;34m\u001b[0m\u001b[0m\n\u001b[0m",
      "\u001b[0;31merror\u001b[0m: OpenCV(4.4.0) /tmp/pip-req-build-civioau0/opencv/modules/imgproc/src/filter.simd.hpp:2922: error: (-213:The function/feature is not implemented) Unsupported combination of source format (=4), and buffer format (=5) in function 'getLinearRowFilter'\n"
     ]
    }
   ],
   "source": [
    "cv2.GaussianBlur(B, (3,3), 0)"
   ]
  },
  {
   "cell_type": "code",
   "execution_count": 24,
   "metadata": {},
   "outputs": [
    {
     "data": {
      "text/plain": [
       "array([[0.27406862],\n",
       "       [0.45186276],\n",
       "       [0.27406862]])"
      ]
     },
     "execution_count": 24,
     "metadata": {},
     "output_type": "execute_result"
    }
   ],
   "source": [
    "cv2.getGaussianKernel(3,1)"
   ]
  },
  {
   "cell_type": "raw",
   "metadata": {},
   "source": [
    "cv2.sepFilter2D(cv2.getGaussianKernel(3,1), cv2.getGaussianKernel(3,1))"
   ]
  },
  {
   "cell_type": "raw",
   "metadata": {},
   "source": [
    "TypeError: Required argument 'kernelX' (pos 3) not found"
   ]
  },
  {
   "cell_type": "code",
   "execution_count": 27,
   "metadata": {},
   "outputs": [
    {
     "name": "stdout",
     "output_type": "stream",
     "text": [
      "Help on built-in function sepFilter2D:\n",
      "\n",
      "sepFilter2D(...)\n",
      "    sepFilter2D(src, ddepth, kernelX, kernelY[, dst[, anchor[, delta[, borderType]]]]) -> dst\n",
      "    .   @brief Applies a separable linear filter to an image.\n",
      "    .   \n",
      "    .   The function applies a separable linear filter to the image. That is, first, every row of src is\n",
      "    .   filtered with the 1D kernel kernelX. Then, every column of the result is filtered with the 1D\n",
      "    .   kernel kernelY. The final result shifted by delta is stored in dst .\n",
      "    .   \n",
      "    .   @param src Source image.\n",
      "    .   @param dst Destination image of the same size and the same number of channels as src .\n",
      "    .   @param ddepth Destination image depth, see @ref filter_depths \"combinations\"\n",
      "    .   @param kernelX Coefficients for filtering each row.\n",
      "    .   @param kernelY Coefficients for filtering each column.\n",
      "    .   @param anchor Anchor position within the kernel. The default value \\f$(-1,-1)\\f$ means that the anchor\n",
      "    .   is at the kernel center.\n",
      "    .   @param delta Value added to the filtered results before storing them.\n",
      "    .   @param borderType Pixel extrapolation method, see #BorderTypes. #BORDER_WRAP is not supported.\n",
      "    .   @sa  filter2D, Sobel, GaussianBlur, boxFilter, blur\n",
      "\n"
     ]
    }
   ],
   "source": [
    "help(cv2.sepFilter2D)"
   ]
  },
  {
   "cell_type": "code",
   "execution_count": 18,
   "metadata": {},
   "outputs": [
    {
     "ename": "error",
     "evalue": "OpenCV(4.4.0) /tmp/pip-req-build-civioau0/opencv/modules/imgproc/src/filter.simd.hpp:2922: error: (-213:The function/feature is not implemented) Unsupported combination of source format (=4), and buffer format (=5) in function 'getLinearRowFilter'\n",
     "output_type": "error",
     "traceback": [
      "\u001b[0;31m---------------------------------------------------------------------------\u001b[0m",
      "\u001b[0;31merror\u001b[0m                                     Traceback (most recent call last)",
      "\u001b[0;32m<ipython-input-18-92b79110fb7e>\u001b[0m in \u001b[0;36m<module>\u001b[0;34m\u001b[0m\n\u001b[0;32m----> 1\u001b[0;31m \u001b[0mcv2\u001b[0m\u001b[0;34m.\u001b[0m\u001b[0mGaussianBlur\u001b[0m\u001b[0;34m(\u001b[0m\u001b[0mB\u001b[0m\u001b[0;34m,\u001b[0m \u001b[0;34m(\u001b[0m\u001b[0;36m3\u001b[0m\u001b[0;34m,\u001b[0m\u001b[0;36m3\u001b[0m\u001b[0;34m)\u001b[0m\u001b[0;34m,\u001b[0m \u001b[0;36m2.0\u001b[0m\u001b[0;34m,\u001b[0m \u001b[0;36m2.0\u001b[0m\u001b[0;34m)\u001b[0m\u001b[0;34m\u001b[0m\u001b[0;34m\u001b[0m\u001b[0m\n\u001b[0m",
      "\u001b[0;31merror\u001b[0m: OpenCV(4.4.0) /tmp/pip-req-build-civioau0/opencv/modules/imgproc/src/filter.simd.hpp:2922: error: (-213:The function/feature is not implemented) Unsupported combination of source format (=4), and buffer format (=5) in function 'getLinearRowFilter'\n"
     ]
    }
   ],
   "source": [
    "cv2.GaussianBlur(B, (3,3), 2.0, 2.0)"
   ]
  },
  {
   "cell_type": "code",
   "execution_count": 28,
   "metadata": {},
   "outputs": [
    {
     "name": "stdout",
     "output_type": "stream",
     "text": [
      "Help on function gaussian_filter in module scipy.ndimage.filters:\n",
      "\n",
      "gaussian_filter(input, sigma, order=0, output=None, mode='reflect', cval=0.0, truncate=4.0)\n",
      "    Multidimensional Gaussian filter.\n",
      "    \n",
      "    Parameters\n",
      "    ----------\n",
      "    input : array_like\n",
      "        The input array.\n",
      "    sigma : scalar or sequence of scalars\n",
      "        Standard deviation for Gaussian kernel. The standard\n",
      "        deviations of the Gaussian filter are given for each axis as a\n",
      "        sequence, or as a single number, in which case it is equal for\n",
      "        all axes.\n",
      "    order : int or sequence of ints, optional\n",
      "        The order of the filter along each axis is given as a sequence\n",
      "        of integers, or as a single number.  An order of 0 corresponds\n",
      "        to convolution with a Gaussian kernel. A positive order\n",
      "        corresponds to convolution with that derivative of a Gaussian.\n",
      "    output : array or dtype, optional\n",
      "        The array in which to place the output, or the dtype of the\n",
      "        returned array. By default an array of the same dtype as input\n",
      "        will be created.\n",
      "    mode : str or sequence, optional\n",
      "        The `mode` parameter determines how the input array is extended\n",
      "        when the filter overlaps a border. By passing a sequence of modes\n",
      "        with length equal to the number of dimensions of the input array,\n",
      "        different modes can be specified along each axis. Default value is\n",
      "        'reflect'. The valid values and their behavior is as follows:\n",
      "    \n",
      "        'reflect' (`d c b a | a b c d | d c b a`)\n",
      "            The input is extended by reflecting about the edge of the last\n",
      "            pixel.\n",
      "    \n",
      "        'constant' (`k k k k | a b c d | k k k k`)\n",
      "            The input is extended by filling all values beyond the edge with\n",
      "            the same constant value, defined by the `cval` parameter.\n",
      "    \n",
      "        'nearest' (`a a a a | a b c d | d d d d`)\n",
      "            The input is extended by replicating the last pixel.\n",
      "    \n",
      "        'mirror' (`d c b | a b c d | c b a`)\n",
      "            The input is extended by reflecting about the center of the last\n",
      "            pixel.\n",
      "    \n",
      "        'wrap' (`a b c d | a b c d | a b c d`)\n",
      "            The input is extended by wrapping around to the opposite edge.\n",
      "    cval : scalar, optional\n",
      "        Value to fill past edges of input if `mode` is 'constant'. Default\n",
      "        is 0.0.\n",
      "    truncate : float\n",
      "        Truncate the filter at this many standard deviations.\n",
      "        Default is 4.0.\n",
      "    \n",
      "    Returns\n",
      "    -------\n",
      "    gaussian_filter : ndarray\n",
      "        Returned array of same shape as `input`.\n",
      "    \n",
      "    Notes\n",
      "    -----\n",
      "    The multidimensional filter is implemented as a sequence of\n",
      "    one-dimensional convolution filters. The intermediate arrays are\n",
      "    stored in the same data type as the output. Therefore, for output\n",
      "    types with a limited precision, the results may be imprecise\n",
      "    because intermediate results may be stored with insufficient\n",
      "    precision.\n",
      "    \n",
      "    Examples\n",
      "    --------\n",
      "    >>> from scipy.ndimage import gaussian_filter\n",
      "    >>> a = np.arange(50, step=2).reshape((5,5))\n",
      "    >>> a\n",
      "    array([[ 0,  2,  4,  6,  8],\n",
      "           [10, 12, 14, 16, 18],\n",
      "           [20, 22, 24, 26, 28],\n",
      "           [30, 32, 34, 36, 38],\n",
      "           [40, 42, 44, 46, 48]])\n",
      "    >>> gaussian_filter(a, sigma=1)\n",
      "    array([[ 4,  6,  8,  9, 11],\n",
      "           [10, 12, 14, 15, 17],\n",
      "           [20, 22, 24, 25, 27],\n",
      "           [29, 31, 33, 34, 36],\n",
      "           [35, 37, 39, 40, 42]])\n",
      "    \n",
      "    >>> from scipy import misc\n",
      "    >>> import matplotlib.pyplot as plt\n",
      "    >>> fig = plt.figure()\n",
      "    >>> plt.gray()  # show the filtered result in grayscale\n",
      "    >>> ax1 = fig.add_subplot(121)  # left side\n",
      "    >>> ax2 = fig.add_subplot(122)  # right side\n",
      "    >>> ascent = misc.ascent()\n",
      "    >>> result = gaussian_filter(ascent, sigma=5)\n",
      "    >>> ax1.imshow(ascent)\n",
      "    >>> ax2.imshow(result)\n",
      "    >>> plt.show()\n",
      "\n"
     ]
    }
   ],
   "source": [
    "help(gaussian_filter)"
   ]
  },
  {
   "cell_type": "code",
   "execution_count": 29,
   "metadata": {},
   "outputs": [
    {
     "data": {
      "text/plain": [
       "array([[ 0,  2,  4,  6],\n",
       "       [ 8, 10, 12, 14],\n",
       "       [16, 18, 20, 22]])"
      ]
     },
     "execution_count": 29,
     "metadata": {},
     "output_type": "execute_result"
    }
   ],
   "source": [
    "B"
   ]
  },
  {
   "cell_type": "code",
   "execution_count": 34,
   "metadata": {},
   "outputs": [
    {
     "data": {
      "text/plain": [
       "array([[ 0,  1,  2,  3,  4,  5,  6],\n",
       "       [ 7,  8,  9, 10, 11, 12, 13],\n",
       "       [14, 15, 16, 17, 18, 19, 20],\n",
       "       [21, 22, 23, 24, 25, 26, 27],\n",
       "       [28, 29, 30, 31, 32, 33, 34]])"
      ]
     },
     "execution_count": 34,
     "metadata": {},
     "output_type": "execute_result"
    }
   ],
   "source": [
    "C = np.arange(5*7).reshape((5,7))\n",
    "C"
   ]
  },
  {
   "cell_type": "code",
   "execution_count": 35,
   "metadata": {},
   "outputs": [
    {
     "data": {
      "text/plain": [
       "array([[ 2,  3,  4,  5,  5,  6,  7],\n",
       "       [ 7,  8,  9, 10, 10, 11, 12],\n",
       "       [14, 15, 16, 17, 17, 18, 19],\n",
       "       [20, 21, 22, 23, 23, 24, 25],\n",
       "       [25, 26, 27, 28, 28, 29, 30]])"
      ]
     },
     "execution_count": 35,
     "metadata": {},
     "output_type": "execute_result"
    }
   ],
   "source": [
    "gaussian_filter(C, 1)"
   ]
  },
  {
   "cell_type": "code",
   "execution_count": 36,
   "metadata": {},
   "outputs": [
    {
     "data": {
      "text/plain": [
       "array([[ 1,  2,  3,  4,  4,  5,  4],\n",
       "       [ 5,  7,  8,  9, 10, 11,  8],\n",
       "       [ 9, 13, 14, 15, 16, 16, 12],\n",
       "       [12, 18, 19, 20, 21, 21, 16],\n",
       "       [11, 16, 17, 18, 19, 18, 14]])"
      ]
     },
     "execution_count": 36,
     "metadata": {},
     "output_type": "execute_result"
    }
   ],
   "source": [
    "gaussian_filter(C, 1, mode=\"constant\", cval=0)"
   ]
  },
  {
   "cell_type": "code",
   "execution_count": 37,
   "metadata": {},
   "outputs": [
    {
     "data": {
      "text/plain": [
       "array([[ 1,  2,  3,  4,  4,  5,  4],\n",
       "       [ 5,  7,  8, 10, 10, 11,  8],\n",
       "       [ 9, 13, 14, 16, 16, 16, 12],\n",
       "       [12, 18, 19, 21, 21, 21, 16],\n",
       "       [11, 16, 17, 18, 19, 18, 14]])"
      ]
     },
     "execution_count": 37,
     "metadata": {},
     "output_type": "execute_result"
    }
   ],
   "source": [
    "gaussian_filter(C, 1, mode=\"constant\", cval=0, truncate=3)"
   ]
  },
  {
   "cell_type": "code",
   "execution_count": 38,
   "metadata": {},
   "outputs": [
    {
     "data": {
      "text/plain": [
       "array([[ 1,  2,  3,  4,  4,  4,  3],\n",
       "       [ 5,  7,  9, 10, 11, 11,  8],\n",
       "       [ 9, 14, 15, 17, 18, 17, 13],\n",
       "       [13, 18, 20, 21, 22, 21, 16],\n",
       "       [11, 16, 18, 18, 19, 18, 14]])"
      ]
     },
     "execution_count": 38,
     "metadata": {},
     "output_type": "execute_result"
    }
   ],
   "source": [
    "gaussian_filter(C, 1, mode=\"constant\", cval=0, truncate=2)"
   ]
  },
  {
   "cell_type": "code",
   "execution_count": null,
   "metadata": {},
   "outputs": [],
   "source": []
  },
  {
   "cell_type": "code",
   "execution_count": 39,
   "metadata": {},
   "outputs": [
    {
     "data": {
      "text/plain": [
       "array([[ 2.0356565,  3.1410956,  3.9370964,  4.6436644,  5.310304 ,\n",
       "         5.6047373,  4.4623065],\n",
       "       [ 5.5451818,  8.003411 ,  9.291193 , 10.259292 , 11.139177 ,\n",
       "        11.318841 ,  8.81083  ],\n",
       "       [10.063647 , 14.113399 , 15.795218 , 16.840258 , 17.740498 ,\n",
       "        17.603382 , 13.501228 ],\n",
       "       [13.575426 , 18.811594 , 20.719217 , 21.73666  , 22.567202 ,\n",
       "        22.127024 , 16.841074 ],\n",
       "       [12.172557 , 16.7847   , 18.363153 , 19.13201  , 19.73636  ,\n",
       "        19.248343 , 14.599208 ]], dtype=float32)"
      ]
     },
     "execution_count": 39,
     "metadata": {},
     "output_type": "execute_result"
    }
   ],
   "source": [
    "gaussian_filter(C.astype(np.float32), 1, mode=\"constant\", cval=0)"
   ]
  },
  {
   "cell_type": "code",
   "execution_count": 40,
   "metadata": {},
   "outputs": [
    {
     "data": {
      "text/plain": [
       "array([[ 2.0333602,  3.1382968,  3.9343019,  4.642001 ,  5.308544 ,\n",
       "         5.6031613,  4.461033 ],\n",
       "       [ 5.5466514,  8.006071 ,  9.294416 , 10.264786 , 11.144147 ,\n",
       "        11.32378  ,  8.814301 ],\n",
       "       [10.0666485, 14.118436 , 15.8010235, 16.849276 , 17.748142 ,\n",
       "        17.61082  , 13.506336 ],\n",
       "       [13.5796585, 18.818504 , 20.727024 , 21.7483   , 22.576756 ,\n",
       "        22.136215 , 16.847307 ],\n",
       "       [12.176372 , 16.790798 , 18.369875 , 19.141853 , 19.744118 ,\n",
       "        19.255661 , 14.604044 ]], dtype=float32)"
      ]
     },
     "execution_count": 40,
     "metadata": {},
     "output_type": "execute_result"
    }
   ],
   "source": [
    "gaussian_filter(C.astype(np.float32), 1, mode=\"constant\", cval=0, truncate=3)"
   ]
  },
  {
   "cell_type": "code",
   "execution_count": 41,
   "metadata": {},
   "outputs": [
    {
     "data": {
      "text/plain": [
       "array([[ 1.9815019,  3.0770648,  3.874871 ,  4.576181 ,  5.277491 ,\n",
       "         5.576597 ,  4.4371405],\n",
       "       [ 5.510598 ,  7.976248 ,  9.272444 , 10.217955 , 11.163466 ,\n",
       "        11.346136 ,  8.821309 ],\n",
       "       [10.171518 , 14.291647 , 16.       , 17.       , 18.       ,\n",
       "        17.855738 , 13.67302  ],\n",
       "       [13.723973 , 19.049582 , 20.98392  , 21.92943  , 22.87494  ,\n",
       "        22.419468 , 17.034683 ],\n",
       "       [12.285273 , 16.968685 , 18.567049 , 19.268358 , 19.969667 ,\n",
       "        19.468216 , 14.740911 ]], dtype=float32)"
      ]
     },
     "execution_count": 41,
     "metadata": {},
     "output_type": "execute_result"
    }
   ],
   "source": [
    "gaussian_filter(C.astype(np.float32), 1, mode=\"constant\", cval=0, truncate=2)"
   ]
  },
  {
   "cell_type": "code",
   "execution_count": 42,
   "metadata": {},
   "outputs": [
    {
     "data": {
      "text/plain": [
       "array([[ 1.5916401,  2.6444118,  3.3703432,  4.0962744,  4.822206 ,\n",
       "         5.548137 ,  4.3555884],\n",
       "       [ 5.3555884,  8.       ,  9.       , 10.       , 11.       ,\n",
       "        12.       ,  9.163039 ],\n",
       "       [10.437108 , 15.       , 16.       , 17.       , 18.       ,\n",
       "        19.       , 14.244559 ],\n",
       "       [15.518627 , 22.       , 23.       , 24.       , 25.       ,\n",
       "        26.       , 19.326078 ],\n",
       "       [13.561608 , 19.13353  , 19.85946  , 20.585392 , 21.311323 ,\n",
       "        22.037254 , 16.325556 ]], dtype=float32)"
      ]
     },
     "execution_count": 42,
     "metadata": {},
     "output_type": "execute_result"
    }
   ],
   "source": [
    "gaussian_filter(C.astype(np.float32), 1, mode=\"constant\", cval=0, truncate=1)"
   ]
  },
  {
   "cell_type": "code",
   "execution_count": 43,
   "metadata": {},
   "outputs": [
    {
     "data": {
      "text/plain": [
       "array([[ 0.,  1.,  2.,  3.,  4.,  5.,  6.],\n",
       "       [ 7.,  8.,  9., 10., 11., 12., 13.],\n",
       "       [14., 15., 16., 17., 18., 19., 20.],\n",
       "       [21., 22., 23., 24., 25., 26., 27.],\n",
       "       [28., 29., 30., 31., 32., 33., 34.]], dtype=float32)"
      ]
     },
     "execution_count": 43,
     "metadata": {},
     "output_type": "execute_result"
    }
   ],
   "source": [
    "gaussian_filter(C.astype(np.float32), 1, mode=\"constant\", cval=0, truncate=0)"
   ]
  },
  {
   "cell_type": "code",
   "execution_count": 46,
   "metadata": {},
   "outputs": [
    {
     "data": {
      "text/plain": [
       "array([[ 0.,  0.,  0.],\n",
       "       [ 0., -1.,  0.],\n",
       "       [ 0.,  0.,  0.],\n",
       "       [ 0.,  0.,  0.]], dtype=float32)"
      ]
     },
     "execution_count": 46,
     "metadata": {},
     "output_type": "execute_result"
    }
   ],
   "source": [
    "D = np.zeros((4,3), dtype=np.float32)\n",
    "D[1,1] = -1\n",
    "D"
   ]
  },
  {
   "cell_type": "code",
   "execution_count": 47,
   "metadata": {},
   "outputs": [
    {
     "data": {
      "text/plain": [
       "array([[-0.07511361, -0.1238414 , -0.07511361],\n",
       "       [-0.1238414 , -0.20417996, -0.1238414 ],\n",
       "       [-0.07511361, -0.1238414 , -0.07511361],\n",
       "       [ 0.        ,  0.        ,  0.        ]], dtype=float32)"
      ]
     },
     "execution_count": 47,
     "metadata": {},
     "output_type": "execute_result"
    }
   ],
   "source": [
    "gaussian_filter(D, 1, mode=\"constant\", cval=0, truncate=1)"
   ]
  },
  {
   "cell_type": "code",
   "execution_count": null,
   "metadata": {},
   "outputs": [],
   "source": []
  },
  {
   "cell_type": "code",
   "execution_count": 2,
   "metadata": {},
   "outputs": [
    {
     "name": "stderr",
     "output_type": "stream",
     "text": [
      "/home/phunc20/.virtualenvs/rlcomp2020/lib/python3.6/site-packages/tensorflow/python/framework/dtypes.py:516: FutureWarning: Passing (type, 1) or '1type' as a synonym of type is deprecated; in a future version of numpy, it will be understood as (type, (1,)) / '(1,)type'.\n",
      "  _np_qint8 = np.dtype([(\"qint8\", np.int8, 1)])\n",
      "/home/phunc20/.virtualenvs/rlcomp2020/lib/python3.6/site-packages/tensorflow/python/framework/dtypes.py:517: FutureWarning: Passing (type, 1) or '1type' as a synonym of type is deprecated; in a future version of numpy, it will be understood as (type, (1,)) / '(1,)type'.\n",
      "  _np_quint8 = np.dtype([(\"quint8\", np.uint8, 1)])\n",
      "/home/phunc20/.virtualenvs/rlcomp2020/lib/python3.6/site-packages/tensorflow/python/framework/dtypes.py:518: FutureWarning: Passing (type, 1) or '1type' as a synonym of type is deprecated; in a future version of numpy, it will be understood as (type, (1,)) / '(1,)type'.\n",
      "  _np_qint16 = np.dtype([(\"qint16\", np.int16, 1)])\n",
      "/home/phunc20/.virtualenvs/rlcomp2020/lib/python3.6/site-packages/tensorflow/python/framework/dtypes.py:519: FutureWarning: Passing (type, 1) or '1type' as a synonym of type is deprecated; in a future version of numpy, it will be understood as (type, (1,)) / '(1,)type'.\n",
      "  _np_quint16 = np.dtype([(\"quint16\", np.uint16, 1)])\n",
      "/home/phunc20/.virtualenvs/rlcomp2020/lib/python3.6/site-packages/tensorflow/python/framework/dtypes.py:520: FutureWarning: Passing (type, 1) or '1type' as a synonym of type is deprecated; in a future version of numpy, it will be understood as (type, (1,)) / '(1,)type'.\n",
      "  _np_qint32 = np.dtype([(\"qint32\", np.int32, 1)])\n",
      "/home/phunc20/.virtualenvs/rlcomp2020/lib/python3.6/site-packages/tensorflow/python/framework/dtypes.py:525: FutureWarning: Passing (type, 1) or '1type' as a synonym of type is deprecated; in a future version of numpy, it will be understood as (type, (1,)) / '(1,)type'.\n",
      "  np_resource = np.dtype([(\"resource\", np.ubyte, 1)])\n"
     ]
    },
    {
     "name": "stdout",
     "output_type": "stream",
     "text": [
      "WARNING:tensorflow:From /home/phunc20/.virtualenvs/rlcomp2020/lib/python3.6/site-packages/tensorflow/python/compat/v2_compat.py:61: disable_resource_variables (from tensorflow.python.ops.variable_scope) is deprecated and will be removed in a future version.\n",
      "Instructions for updating:\n",
      "non-resource variables are not supported in the long term\n"
     ]
    },
    {
     "name": "stderr",
     "output_type": "stream",
     "text": [
      "/home/phunc20/.virtualenvs/rlcomp2020/lib/python3.6/site-packages/tensorboard/compat/tensorflow_stub/dtypes.py:541: FutureWarning: Passing (type, 1) or '1type' as a synonym of type is deprecated; in a future version of numpy, it will be understood as (type, (1,)) / '(1,)type'.\n",
      "  _np_qint8 = np.dtype([(\"qint8\", np.int8, 1)])\n",
      "/home/phunc20/.virtualenvs/rlcomp2020/lib/python3.6/site-packages/tensorboard/compat/tensorflow_stub/dtypes.py:542: FutureWarning: Passing (type, 1) or '1type' as a synonym of type is deprecated; in a future version of numpy, it will be understood as (type, (1,)) / '(1,)type'.\n",
      "  _np_quint8 = np.dtype([(\"quint8\", np.uint8, 1)])\n",
      "/home/phunc20/.virtualenvs/rlcomp2020/lib/python3.6/site-packages/tensorboard/compat/tensorflow_stub/dtypes.py:543: FutureWarning: Passing (type, 1) or '1type' as a synonym of type is deprecated; in a future version of numpy, it will be understood as (type, (1,)) / '(1,)type'.\n",
      "  _np_qint16 = np.dtype([(\"qint16\", np.int16, 1)])\n",
      "/home/phunc20/.virtualenvs/rlcomp2020/lib/python3.6/site-packages/tensorboard/compat/tensorflow_stub/dtypes.py:544: FutureWarning: Passing (type, 1) or '1type' as a synonym of type is deprecated; in a future version of numpy, it will be understood as (type, (1,)) / '(1,)type'.\n",
      "  _np_quint16 = np.dtype([(\"quint16\", np.uint16, 1)])\n",
      "/home/phunc20/.virtualenvs/rlcomp2020/lib/python3.6/site-packages/tensorboard/compat/tensorflow_stub/dtypes.py:545: FutureWarning: Passing (type, 1) or '1type' as a synonym of type is deprecated; in a future version of numpy, it will be understood as (type, (1,)) / '(1,)type'.\n",
      "  _np_qint32 = np.dtype([(\"qint32\", np.int32, 1)])\n",
      "/home/phunc20/.virtualenvs/rlcomp2020/lib/python3.6/site-packages/tensorboard/compat/tensorflow_stub/dtypes.py:550: FutureWarning: Passing (type, 1) or '1type' as a synonym of type is deprecated; in a future version of numpy, it will be understood as (type, (1,)) / '(1,)type'.\n",
      "  np_resource = np.dtype([(\"resource\", np.ubyte, 1)])\n"
     ]
    }
   ],
   "source": [
    "import sys\n",
    "import numpy as np\n",
    "#import pandas as pd\n",
    "import datetime\n",
    "import json\n",
    "from array import *\n",
    "import os\n",
    "import math\n",
    "from random import randrange\n",
    "import random\n",
    "\n",
    "#from keras.models import Sequential\n",
    "#from keras.models import model_from_json\n",
    "#from keras.layers import Dense, Activation\n",
    "#from keras import optimizers\n",
    "from tensorflow.keras.models import Sequential\n",
    "from tensorflow.keras.models import model_from_json\n",
    "from tensorflow.keras.layers import Dense, Activation\n",
    "from tensorflow.keras import optimizers\n",
    "\n",
    "import tensorflow.keras as keras\n",
    "\n",
    "import tensorflow.compat.v1 as tf\n",
    "from tensorflow.compat.v1.keras import backend as K\n",
    "tf.disable_v2_behavior()\n",
    "\n",
    "import constants"
   ]
  },
  {
   "cell_type": "code",
   "execution_count": 3,
   "metadata": {},
   "outputs": [],
   "source": [
    "#Classes in GAME_SOCKET_DUMMY.py\n",
    "class ObstacleInfo:\n",
    "    # initial energy for obstacles: Land (key = 0): -1, Forest(key = -1): 0 (random), Trap(key = -2): -10, Swamp (key = -3): -5\n",
    "    types = {0: -1, -1: 0, -2: -10, -3: -5}\n",
    "\n",
    "    def __init__(self):\n",
    "        self.type = 0\n",
    "        self.posx = 0\n",
    "        self.posy = 0\n",
    "        self.value = 0\n",
    "        \n",
    "class GoldInfo:\n",
    "    def __init__(self):\n",
    "        self.posx = 0\n",
    "        self.posy = 0\n",
    "        self.amount = 0\n",
    "\n",
    "    def loads(self, data):\n",
    "        golds = []\n",
    "        for gd in data:\n",
    "            g = GoldInfo()\n",
    "            g.posx = gd[\"posx\"]\n",
    "            g.posy = gd[\"posy\"]\n",
    "            g.amount = gd[\"amount\"]\n",
    "            golds.append(g)\n",
    "        return golds\n",
    "\n",
    "class PlayerInfo:\n",
    "    STATUS_PLAYING = 0\n",
    "    STATUS_ELIMINATED_WENT_OUT_MAP = 1\n",
    "    STATUS_ELIMINATED_OUT_OF_ENERGY = 2\n",
    "    STATUS_ELIMINATED_INVALID_ACTION = 3\n",
    "    STATUS_STOP_EMPTY_GOLD = 4\n",
    "    STATUS_STOP_END_STEP = 5\n",
    "\n",
    "    def __init__(self, id):\n",
    "        self.playerId = id\n",
    "        self.score = 0\n",
    "        self.energy = 0\n",
    "        self.posx = 0\n",
    "        self.posy = 0\n",
    "        self.lastAction = -1\n",
    "        self.status = PlayerInfo.STATUS_PLAYING\n",
    "        self.freeCount = 0\n",
    "\n",
    "class GameInfo:\n",
    "    def __init__(self):\n",
    "        self.numberOfPlayers = 1\n",
    "        self.width = 0\n",
    "        self.height = 0\n",
    "        self.steps = 100\n",
    "        self.golds = []\n",
    "        self.obstacles = []\n",
    "\n",
    "    def loads(self, data):\n",
    "        m = GameInfo()\n",
    "        m.width = data[\"width\"]\n",
    "        m.height = data[\"height\"]\n",
    "        m.golds = GoldInfo().loads(data[\"golds\"])\n",
    "        m.obstacles = data[\"obstacles\"]\n",
    "        m.numberOfPlayers = data[\"numberOfPlayers\"]\n",
    "        m.steps = data[\"steps\"]\n",
    "        return m\n",
    "\n",
    "class UserMatch:\n",
    "    def __init__(self):\n",
    "        self.playerId = 1\n",
    "        self.posx = 0\n",
    "        self.posy = 0\n",
    "        self.energy = 50\n",
    "        self.gameinfo = GameInfo()\n",
    "\n",
    "    def to_json(self):\n",
    "        return json.dumps(self, default=lambda o: o.__dict__, sort_keys=True, indent=4)\n",
    "\n",
    "class StepState:\n",
    "    def __init__(self):\n",
    "        self.players = []\n",
    "        self.golds = []\n",
    "        self.changedObstacles = []\n",
    "\n",
    "    def to_json(self):\n",
    "        return json.dumps(self, default=lambda o: o.__dict__, sort_keys=True, indent=4)\n"
   ]
  },
  {
   "cell_type": "code",
   "execution_count": 4,
   "metadata": {},
   "outputs": [],
   "source": [
    "#Main class in GAME_SOCKET_DUMMY.py\n",
    "class GameSocket:\n",
    "    bog_energy_chain = {-5: -20, -20: -40, -40: -100, -100: -100}\n",
    "\n",
    "    def __init__(self):\n",
    "        self.stepCount = 0\n",
    "        self.maxStep = 0\n",
    "        self.mapdir = \"Maps\"  # where to load all pre-defined maps\n",
    "        self.mapid = \"\"\n",
    "        self.userMatch = UserMatch()\n",
    "        self.user = PlayerInfo(1)\n",
    "        self.stepState = StepState()\n",
    "        self.maps = {}  # key: map file name, value: file content\n",
    "        self.map = []  # running map info: 0->Land, -1->Forest, -2->Trap, -3:Swamp, >0:Gold\n",
    "        self.energyOnMap = []  # self.energyOnMap[x][y]: <0, amount of energy which player will consume if it move into (x,y)\n",
    "        self.E = 50\n",
    "        self.resetFlag = True\n",
    "        self.craftUsers = []  # players that craft at current step - for calculating amount of gold\n",
    "        self.bots = []\n",
    "        self.craftMap = {}  # cells that players craft at current step, key: x_y, value: number of players that craft at (x,y)\n",
    "\n",
    "    def init_bots(self):\n",
    "        self.bots = [Bot1(2), Bot2(3), Bot3(4)]  # use bot1(id=2), bot2(id=3), bot3(id=4)\n",
    "        #for (bot) in self.bots:  # at the beginning, all bots will have same position, energy as player\n",
    "        for bot in self.bots:  # at the beginning, all bots will have same position, energy as player\n",
    "            bot.info.posx = self.user.posx\n",
    "            bot.info.posy = self.user.posy\n",
    "            bot.info.energy = self.user.energy\n",
    "            bot.info.lastAction = -1\n",
    "            bot.info.status = PlayerInfo.STATUS_PLAYING\n",
    "            bot.info.score = 0\n",
    "            self.stepState.players.append(bot.info)\n",
    "        self.userMatch.gameinfo.numberOfPlayers = len(self.stepState.players)\n",
    "        #print(\"numberOfPlayers: \", self.userMatch.gameinfo.numberOfPlayers)\n",
    "\n",
    "    def reset(self, requests):  # load new game by given request: [map id (filename), posx, posy, initial energy]\n",
    "        # load new map\n",
    "        self.reset_map(requests[0])\n",
    "        self.userMatch.posx = int(requests[1])\n",
    "        self.userMatch.posy = int(requests[2])\n",
    "        self.userMatch.energy = int(requests[3])\n",
    "        self.userMatch.gameinfo.steps = int(requests[4])\n",
    "        self.maxStep = self.userMatch.gameinfo.steps\n",
    "\n",
    "        # init data for players\n",
    "        self.user.posx = self.userMatch.posx  # in\n",
    "        self.user.posy = self.userMatch.posy\n",
    "        self.user.energy = self.userMatch.energy\n",
    "        self.user.status = PlayerInfo.STATUS_PLAYING\n",
    "        self.user.score = 0\n",
    "        self.stepState.players = [self.user]\n",
    "        self.E = self.userMatch.energy\n",
    "        self.resetFlag = True\n",
    "        self.init_bots()\n",
    "        self.stepCount = 0\n",
    "\n",
    "    def reset_map(self, id):  # load map info\n",
    "        self.mapId = id\n",
    "        self.map = json.loads(self.maps[self.mapId])\n",
    "        self.userMatch = self.map_info(self.map)\n",
    "        self.stepState.golds = self.userMatch.gameinfo.golds\n",
    "        self.map = json.loads(self.maps[self.mapId])\n",
    "        self.energyOnMap = json.loads(self.maps[self.mapId])\n",
    "        for x in range(len(self.map)):\n",
    "            for y in range(len(self.map[x])):\n",
    "                if self.map[x][y] > 0:  # gold\n",
    "                    self.energyOnMap[x][y] = -4\n",
    "                else:  # obstacles\n",
    "                    self.energyOnMap[x][y] = ObstacleInfo.types[self.map[x][y]]\n",
    "\n",
    "    def connect(self): # simulate player's connect request\n",
    "        print(\"Connected to server.\")\n",
    "        for mapid in range(len(Maps)):\n",
    "            filename = \"map\" + str(mapid)\n",
    "            print(\"Found: \" + filename)\n",
    "            self.maps[filename] = str(Maps[mapid])\n",
    "\n",
    "    def map_info(self, map):  # get map info\n",
    "        # print(map)\n",
    "        userMatch = UserMatch()\n",
    "        userMatch.gameinfo.height = len(map)\n",
    "        userMatch.gameinfo.width = len(map[0])\n",
    "        i = 0\n",
    "        while i < len(map):\n",
    "            j = 0\n",
    "            while j < len(map[i]):\n",
    "                if map[i][j] > 0:  # gold\n",
    "                    g = GoldInfo()\n",
    "                    g.posx = j\n",
    "                    g.posy = i\n",
    "                    g.amount = map[i][j]\n",
    "                    userMatch.gameinfo.golds.append(g)\n",
    "                else:  # obstacles\n",
    "                    o = ObstacleInfo()\n",
    "                    o.posx = j\n",
    "                    o.posy = i\n",
    "                    o.type = -map[i][j]\n",
    "                    o.value = ObstacleInfo.types[map[i][j]]\n",
    "                    userMatch.gameinfo.obstacles.append(o)\n",
    "                j += 1\n",
    "            i += 1\n",
    "        return userMatch\n",
    "\n",
    "    def receive(self):  # send data to player (simulate player's receive request)\n",
    "        if self.resetFlag:  # for the first time -> send game info\n",
    "            self.resetFlag = False\n",
    "            data = self.userMatch.to_json()\n",
    "            for (bot) in self.bots:\n",
    "                bot.new_game(data)\n",
    "            # print(data)\n",
    "            return data\n",
    "        else:  # send step state\n",
    "            self.stepCount = self.stepCount + 1\n",
    "            if self.stepCount >= self.maxStep:\n",
    "                for player in self.stepState.players:\n",
    "                    player.status = PlayerInfo.STATUS_STOP_END_STEP\n",
    "            data = self.stepState.to_json()\n",
    "            #for (bot) in self.bots:  # update bots' state\n",
    "            for bot in self.bots:  # update bots' state\n",
    "                bot.new_state(data)\n",
    "            # print(data)\n",
    "            return data\n",
    "\n",
    "    def send(self, message):  # receive message from player (simulate send request from player)\n",
    "        if message.isnumeric():  # player send action\n",
    "            self.resetFlag = False\n",
    "            self.stepState.changedObstacles = []\n",
    "            action = int(message)\n",
    "            # print(\"Action = \", action)\n",
    "            self.user.lastAction = action\n",
    "            self.craftUsers = []\n",
    "            self.step_action(self.user, action)\n",
    "            for bot in self.bots:\n",
    "                if bot.info.status == PlayerInfo.STATUS_PLAYING:\n",
    "                    action = bot.next_action()\n",
    "                    bot.info.lastAction = action\n",
    "                    # print(\"Bot Action: \", action)\n",
    "                    self.step_action(bot.info, action)\n",
    "            self.action_5_craft()\n",
    "            for c in self.stepState.changedObstacles:\n",
    "                self.map[c[\"posy\"]][c[\"posx\"]] = -c[\"type\"]\n",
    "                self.energyOnMap[c[\"posy\"]][c[\"posx\"]] = c[\"value\"]\n",
    "\n",
    "        else:  # reset game\n",
    "            requests = message.split(\",\")\n",
    "            #print(\"Reset game: \", requests[:3], end='')\n",
    "            self.reset(requests)\n",
    "\n",
    "    def step_action(self, user, action):\n",
    "        switcher = {\n",
    "            0: self.action_0_left,\n",
    "            1: self.action_1_right,\n",
    "            2: self.action_2_up,\n",
    "            3: self.action_3_down,\n",
    "            4: self.action_4_free,\n",
    "            5: self.action_5_craft_pre\n",
    "        }\n",
    "        func = switcher.get(action, self.invalidAction)\n",
    "        func(user)\n",
    "\n",
    "    def action_5_craft_pre(self, user):  # collect players who craft at current step\n",
    "        user.freeCount = 0\n",
    "        if self.map[user.posy][user.posx] <= 0:  # craft at the non-gold cell\n",
    "            user.energy -= 10\n",
    "            if user.energy <= 0:\n",
    "                user.status = PlayerInfo.STATUS_ELIMINATED_OUT_OF_ENERGY\n",
    "                user.lastAction = 6 #eliminated\n",
    "        else:\n",
    "            user.energy -= 5\n",
    "            if user.energy > 0:\n",
    "                self.craftUsers.append(user)\n",
    "                key = str(user.posx) + \"_\" + str(user.posy)\n",
    "                if key in self.craftMap:\n",
    "                    count = self.craftMap[key]\n",
    "                    self.craftMap[key] = count + 1\n",
    "                else:\n",
    "                    self.craftMap[key] = 1\n",
    "            else:\n",
    "                user.status = PlayerInfo.STATUS_ELIMINATED_OUT_OF_ENERGY\n",
    "                user.lastAction = 6 #eliminated\n",
    "\n",
    "    def action_0_left(self, user):  # user go left\n",
    "        user.freeCount = 0\n",
    "        user.posx = user.posx - 1\n",
    "        if user.posx < 0:\n",
    "            user.status = PlayerInfo.STATUS_ELIMINATED_WENT_OUT_MAP\n",
    "            user.lastAction = 6 #eliminated\n",
    "        else:\n",
    "            self.go_to_pos(user)\n",
    "\n",
    "    def action_1_right(self, user):  # user go right\n",
    "        user.freeCount = 0\n",
    "        user.posx = user.posx + 1\n",
    "        if user.posx >= self.userMatch.gameinfo.width:\n",
    "            user.status = PlayerInfo.STATUS_ELIMINATED_WENT_OUT_MAP\n",
    "            user.lastAction = 6 #eliminated\n",
    "        else:\n",
    "            self.go_to_pos(user)\n",
    "\n",
    "    def action_2_up(self, user):  # user go up\n",
    "        user.freeCount = 0\n",
    "        user.posy = user.posy - 1\n",
    "        if user.posy < 0:\n",
    "            user.status = PlayerInfo.STATUS_ELIMINATED_WENT_OUT_MAP\n",
    "            user.lastAction = 6 #eliminated\n",
    "        else:\n",
    "            self.go_to_pos(user)\n",
    "\n",
    "    def action_3_down(self, user):  # user go right\n",
    "        user.freeCount = 0\n",
    "        user.posy = user.posy + 1\n",
    "        if user.posy >= self.userMatch.gameinfo.height:\n",
    "            user.status = PlayerInfo.STATUS_ELIMINATED_WENT_OUT_MAP\n",
    "            user.lastAction = 6 #eliminated\n",
    "        else:\n",
    "            self.go_to_pos(user)\n",
    "\n",
    "    def action_4_free(self, user):  # user free\n",
    "        user.freeCount += 1\n",
    "        if user.freeCount == 1:\n",
    "            user.energy += int(self.E / 4)\n",
    "        elif user.freeCount == 2:\n",
    "            user.energy += int(self.E / 3)\n",
    "        elif user.freeCount == 3:\n",
    "            user.energy += int(self.E / 2)\n",
    "        else:\n",
    "            user.energy = self.E\n",
    "        if user.energy > self.E:\n",
    "            user.energy = self.E\n",
    "\n",
    "    def action_5_craft(self):\n",
    "        craftCount = len(self.craftUsers)\n",
    "        # print (\"craftCount\",craftCount)\n",
    "        if (craftCount > 0):\n",
    "            for user in self.craftUsers:\n",
    "                x = user.posx\n",
    "                y = user.posy\n",
    "                key = str(user.posx) + \"_\" + str(user.posy)\n",
    "                c = self.craftMap[key]\n",
    "                m = min(math.ceil(self.map[y][x] / c), 50)\n",
    "                user.score += m\n",
    "                # print (\"user\", user.playerId, m)\n",
    "            for user in self.craftUsers:\n",
    "                x = user.posx\n",
    "                y = user.posy\n",
    "                key = str(user.posx) + \"_\" + str(user.posy)\n",
    "                if key in self.craftMap:\n",
    "                    c = self.craftMap[key]\n",
    "                    del self.craftMap[key]\n",
    "                    m = min(math.ceil(self.map[y][x] / c), 50)\n",
    "                    self.map[y][x] -= m * c\n",
    "                    if self.map[y][x] < 0:\n",
    "                        self.map[y][x] = 0\n",
    "                        self.energyOnMap[y][x] = ObstacleInfo.types[0]\n",
    "                    for g in self.stepState.golds:\n",
    "                        if g.posx == x and g.posy == y:\n",
    "                            g.amount = self.map[y][x]\n",
    "                            if g.amount == 0:\n",
    "                                self.stepState.golds.remove(g)\n",
    "                                self.add_changed_obstacle(x, y, 0, ObstacleInfo.types[0])\n",
    "                                if len(self.stepState.golds) == 0:\n",
    "                                    for player in self.stepState.players:\n",
    "                                        player.status = PlayerInfo.STATUS_STOP_EMPTY_GOLD\n",
    "                            break;\n",
    "            self.craftMap = {}\n",
    "\n",
    "    def invalidAction(self, user):\n",
    "        user.status = PlayerInfo.STATUS_ELIMINATED_INVALID_ACTION\n",
    "        user.lastAction = 6 #eliminated\n",
    "\n",
    "    def go_to_pos(self, user):  # player move to cell(x,y)\n",
    "        if self.map[user.posy][user.posx] == -1:\n",
    "            user.energy -= randrange(16) + 5\n",
    "        elif self.map[user.posy][user.posx] == 0:\n",
    "            user.energy += self.energyOnMap[user.posy][user.posx]\n",
    "        elif self.map[user.posy][user.posx] == -2:\n",
    "            user.energy += self.energyOnMap[user.posy][user.posx]\n",
    "            self.add_changed_obstacle(user.posx, user.posy, 0, ObstacleInfo.types[0])\n",
    "        elif self.map[user.posy][user.posx] == -3:\n",
    "            user.energy += self.energyOnMap[user.posy][user.posx]\n",
    "            self.add_changed_obstacle(user.posx, user.posy, 3,\n",
    "                                      self.bog_energy_chain[self.energyOnMap[user.posy][user.posx]])\n",
    "        else:\n",
    "            user.energy -= 4\n",
    "        if user.energy <= 0:\n",
    "            user.status = PlayerInfo.STATUS_ELIMINATED_OUT_OF_ENERGY\n",
    "            user.lastAction = 6 #eliminated\n",
    "\n",
    "    def add_changed_obstacle(self, x, y, t, v):\n",
    "        added = False\n",
    "        for o in self.stepState.changedObstacles:\n",
    "            if o[\"posx\"] == x and o[\"posy\"] == y:\n",
    "                added = True\n",
    "                break\n",
    "        if added == False:\n",
    "            o = {}\n",
    "            o[\"posx\"] = x\n",
    "            o[\"posy\"] = y\n",
    "            o[\"type\"] = t\n",
    "            o[\"value\"] = v\n",
    "            self.stepState.changedObstacles.append(o)\n",
    "\n",
    "    def close(self):\n",
    "        print(\"Close socket.\")"
   ]
  },
  {
   "cell_type": "code",
   "execution_count": 5,
   "metadata": {},
   "outputs": [],
   "source": [
    "#Bots :bot1\n",
    "class Bot1:\n",
    "    ACTION_GO_LEFT = 0\n",
    "    ACTION_GO_RIGHT = 1\n",
    "    ACTION_GO_UP = 2\n",
    "    ACTION_GO_DOWN = 3\n",
    "    ACTION_FREE = 4\n",
    "    ACTION_CRAFT = 5\n",
    "\n",
    "    def __init__(self, id):\n",
    "        self.state = State()\n",
    "        self.info = PlayerInfo(id)\n",
    "\n",
    "    def next_action(self):\n",
    "        if self.state.mapInfo.gold_amount(self.info.posx, self.info.posy) > 0:\n",
    "            if self.info.energy >= 6:\n",
    "                return self.ACTION_CRAFT\n",
    "            else:\n",
    "                return self.ACTION_FREE\n",
    "        if self.info.energy < 5:\n",
    "            return self.ACTION_FREE\n",
    "        else:\n",
    "            action = self.ACTION_GO_UP\n",
    "            if self.info.posy % 2 == 0:\n",
    "                if self.info.posx < self.state.mapInfo.max_x:\n",
    "                    action = self.ACTION_GO_RIGHT\n",
    "            else:\n",
    "                if self.info.posx > 0:\n",
    "                    action = self.ACTION_GO_LEFT\n",
    "                else:\n",
    "                    action = self.ACTION_GO_DOWN\n",
    "            return action\n",
    "\n",
    "    def new_game(self, data):\n",
    "        try:\n",
    "            self.state.init_state(data)\n",
    "        except Exception as e:\n",
    "            import traceback\n",
    "            traceback.print_exc()\n",
    "\n",
    "    def new_state(self, data):\n",
    "        # action = self.next_action();\n",
    "        # self.socket.send(action)\n",
    "        try:\n",
    "            self.state.update_state(data)\n",
    "        except Exception as e:\n",
    "            import traceback\n",
    "            traceback.print_exc()"
   ]
  },
  {
   "cell_type": "code",
   "execution_count": 6,
   "metadata": {},
   "outputs": [],
   "source": [
    "#Bots :bot2\n",
    "class Bot2:\n",
    "    ACTION_GO_LEFT = 0\n",
    "    ACTION_GO_RIGHT = 1\n",
    "    ACTION_GO_UP = 2\n",
    "    ACTION_GO_DOWN = 3\n",
    "    ACTION_FREE = 4\n",
    "    ACTION_CRAFT = 5\n",
    "\n",
    "    def __init__(self, id):\n",
    "        self.state = State()\n",
    "        self.info = PlayerInfo(id)\n",
    "\n",
    "    def next_action(self):\n",
    "        if self.state.mapInfo.gold_amount(self.info.posx, self.info.posy) > 0:\n",
    "            if self.info.energy >= 6:\n",
    "                return self.ACTION_CRAFT\n",
    "            else:\n",
    "                return self.ACTION_FREE\n",
    "        if self.info.energy < 5:\n",
    "            return self.ACTION_FREE\n",
    "        else:\n",
    "            action = np.random.randint(0, 4)            \n",
    "            return action\n",
    "\n",
    "    def new_game(self, data):\n",
    "        try:\n",
    "            self.state.init_state(data)\n",
    "        except Exception as e:\n",
    "            import traceback\n",
    "            traceback.print_exc()\n",
    "\n",
    "    def new_state(self, data):\n",
    "        # action = self.next_action();\n",
    "        # self.socket.send(action)\n",
    "        try:\n",
    "            self.state.update_state(data)\n",
    "        except Exception as e:\n",
    "            import traceback\n",
    "            traceback.print_exc()"
   ]
  },
  {
   "cell_type": "code",
   "execution_count": 7,
   "metadata": {},
   "outputs": [],
   "source": [
    "#Bots :bot3\n",
    "class Bot3:\n",
    "    ACTION_GO_LEFT = 0\n",
    "    ACTION_GO_RIGHT = 1\n",
    "    ACTION_GO_UP = 2\n",
    "    ACTION_GO_DOWN = 3\n",
    "    ACTION_FREE = 4\n",
    "    ACTION_CRAFT = 5\n",
    "\n",
    "    def __init__(self, id):\n",
    "        self.state = State()\n",
    "        self.info = PlayerInfo(id)\n",
    "\n",
    "    def next_action(self):\n",
    "        if self.state.mapInfo.gold_amount(self.info.posx, self.info.posy) > 0:\n",
    "            if self.info.energy >= 6:\n",
    "                return self.ACTION_CRAFT\n",
    "            else:\n",
    "                return self.ACTION_FREE\n",
    "        if self.info.energy < 5:\n",
    "            return self.ACTION_FREE\n",
    "        else:\n",
    "            action = self.ACTION_GO_LEFT\n",
    "            if self.info.posx % 2 == 0:\n",
    "                if self.info.posy < self.state.mapInfo.max_y:\n",
    "                    action = self.ACTION_GO_DOWN\n",
    "            else:\n",
    "                if self.info.posy > 0:\n",
    "                    action = self.ACTION_GO_UP\n",
    "                else:\n",
    "                    action = self.ACTION_GO_RIGHT            \n",
    "            return action\n",
    "\n",
    "    def new_game(self, data):\n",
    "        try:\n",
    "            self.state.init_state(data)\n",
    "        except Exception as e:\n",
    "            import traceback\n",
    "            traceback.print_exc()\n",
    "\n",
    "    def new_state(self, data):\n",
    "        # action = self.next_action();\n",
    "        # self.socket.send(action)\n",
    "        try:\n",
    "            self.state.update_state(data)\n",
    "        except Exception as e:\n",
    "            import traceback\n",
    "            traceback.print_exc()"
   ]
  },
  {
   "cell_type": "code",
   "execution_count": 8,
   "metadata": {},
   "outputs": [],
   "source": [
    "#MinerState.py\n",
    "def str_2_json(str):\n",
    "    return json.loads(str, encoding=\"utf-8\")\n",
    "\n",
    "\n",
    "class MapInfo:\n",
    "    def __init__(self):\n",
    "        self.max_x = 0 #Width of the map\n",
    "        self.max_y = 0 #Height of the map\n",
    "        self.golds = [] #List of the golds in the map\n",
    "        self.obstacles = []\n",
    "        self.numberOfPlayers = 0\n",
    "        self.maxStep = 0 #The maximum number of step is set for this map\n",
    "\n",
    "    def init_map(self, gameInfo):\n",
    "        #Initialize the map at the begining of each episode\n",
    "        self.max_x = gameInfo[\"width\"] - 1\n",
    "        self.max_y = gameInfo[\"height\"] - 1\n",
    "        self.golds = gameInfo[\"golds\"]\n",
    "        self.obstacles = gameInfo[\"obstacles\"]\n",
    "        self.maxStep = gameInfo[\"steps\"]\n",
    "        self.numberOfPlayers = gameInfo[\"numberOfPlayers\"]\n",
    "\n",
    "    def update(self, golds, changedObstacles):\n",
    "        #Update the map after every step\n",
    "        self.golds = golds\n",
    "        for cob in changedObstacles:\n",
    "            newOb = True\n",
    "            for ob in self.obstacles:\n",
    "                if cob[\"posx\"] == ob[\"posx\"] and cob[\"posy\"] == ob[\"posy\"]:\n",
    "                    newOb = False\n",
    "                    #print(\"cell(\", cob[\"posx\"], \",\", cob[\"posy\"], \") change type from: \", ob[\"type\"], \" -> \",\n",
    "                    #      cob[\"type\"], \" / value: \", ob[\"value\"], \" -> \", cob[\"value\"])\n",
    "                    ob[\"type\"] = cob[\"type\"]\n",
    "                    ob[\"value\"] = cob[\"value\"]\n",
    "                    break\n",
    "            if newOb:\n",
    "                self.obstacles.append(cob)\n",
    "                #print(\"new obstacle: \", cob[\"posx\"], \",\", cob[\"posy\"], \", type = \", cob[\"type\"], \", value = \",\n",
    "                #      cob[\"value\"])\n",
    "\n",
    "    def get_min_x(self):\n",
    "        return min([cell[\"posx\"] for cell in self.golds])\n",
    "\n",
    "    def get_max_x(self):\n",
    "        return max([cell[\"posx\"] for cell in self.golds])\n",
    "\n",
    "    def get_min_y(self):\n",
    "        return min([cell[\"posy\"] for cell in self.golds])\n",
    "\n",
    "    def get_max_y(self):\n",
    "        return max([cell[\"posy\"] for cell in self.golds])\n",
    "\n",
    "    def is_row_has_gold(self, y):\n",
    "        return y in [cell[\"posy\"] for cell in self.golds]\n",
    "\n",
    "    def is_column_has_gold(self, x):\n",
    "        return x in [cell[\"posx\"] for cell in self.golds]\n",
    "\n",
    "    def gold_amount(self, x, y): #Get the amount of golds at cell (x,y)\n",
    "        for cell in self.golds:\n",
    "            if x == cell[\"posx\"] and y == cell[\"posy\"]:\n",
    "                return cell[\"amount\"]\n",
    "        return 0 \n",
    "\n",
    "    def get_obstacle(self, x, y):  # Get the kind of the obstacle at cell(x,y)\n",
    "        for cell in self.obstacles:\n",
    "            if x == cell[\"posx\"] and y == cell[\"posy\"]:\n",
    "                return cell[\"type\"]\n",
    "        return -1  # No obstacle at the cell (x,y)\n",
    "\n",
    "\n",
    "class State:\n",
    "    STATUS_PLAYING = 0\n",
    "    STATUS_ELIMINATED_WENT_OUT_MAP = 1\n",
    "    STATUS_ELIMINATED_OUT_OF_ENERGY = 2\n",
    "    STATUS_ELIMINATED_INVALID_ACTION = 3\n",
    "    STATUS_STOP_EMPTY_GOLD = 4\n",
    "    STATUS_STOP_END_STEP = 5\n",
    "\n",
    "    def __init__(self):\n",
    "        self.end = False\n",
    "        self.score = 0\n",
    "        self.lastAction = None\n",
    "        self.id = 0\n",
    "        self.x = 0\n",
    "        self.y = 0\n",
    "        self.energy = 0\n",
    "        self.mapInfo = MapInfo()\n",
    "        self.players = []\n",
    "        self.stepCount = 0\n",
    "        self.status = State.STATUS_PLAYING\n",
    "\n",
    "    def init_state(self, data): #parse data from server into object\n",
    "        game_info = str_2_json(data)\n",
    "        self.end = False\n",
    "        self.score = 0\n",
    "        self.lastAction = None\n",
    "        self.id = game_info[\"playerId\"]\n",
    "        self.x = game_info[\"posx\"]\n",
    "        self.y = game_info[\"posy\"]\n",
    "        self.energy = game_info[\"energy\"]\n",
    "        self.mapInfo.init_map(game_info[\"gameinfo\"])\n",
    "        self.stepCount = 0\n",
    "        self.status = State.STATUS_PLAYING\n",
    "        self.players = [{\"playerId\": 2, \"posx\": self.x, \"posy\": self.y},\n",
    "                        {\"playerId\": 3, \"posx\": self.x, \"posy\": self.y},\n",
    "                        {\"playerId\": 4, \"posx\": self.x, \"posy\": self.y}]\n",
    "\n",
    "    def update_state(self, data):\n",
    "        new_state = str_2_json(data)\n",
    "        for player in new_state[\"players\"]:\n",
    "            if player[\"playerId\"] == self.id:\n",
    "                self.x = player[\"posx\"]\n",
    "                self.y = player[\"posy\"]\n",
    "                self.energy = player[\"energy\"]\n",
    "                self.score = player[\"score\"]\n",
    "                self.lastAction = player[\"lastAction\"]\n",
    "                self.status = player[\"status\"]\n",
    "\n",
    "        self.mapInfo.update(new_state[\"golds\"], new_state[\"changedObstacles\"])\n",
    "        self.players = new_state[\"players\"]\n",
    "        for i in range(len(self.players), 4, 1):\n",
    "            self.players.append({\"playerId\": i, \"posx\": self.x, \"posy\": self.y})\n",
    "        self.stepCount = self.stepCount + 1"
   ]
  },
  {
   "cell_type": "code",
   "execution_count": 9,
   "metadata": {},
   "outputs": [],
   "source": [
    "#MinerEnv.py\n",
    "TreeID = 1\n",
    "TrapID = 2\n",
    "SwampID = 3\n",
    "class MinerEnv:\n",
    "    def __init__(self):\n",
    "        self.socket = GameSocket()\n",
    "        self.state = State()\n",
    "        \n",
    "        self.score_pre = self.state.score#Storing the last score for designing the reward function\n",
    "\n",
    "    def start(self): #connect to server\n",
    "        self.socket.connect()\n",
    "\n",
    "    def end(self): #disconnect server\n",
    "        self.socket.close()\n",
    "\n",
    "    def send_map_info(self, request):#tell server which map to run\n",
    "        self.socket.send(request)\n",
    "\n",
    "    def reset(self): #start new game\n",
    "        try:\n",
    "            message = self.socket.receive() #receive game info from server\n",
    "            self.state.init_state(message) #init state\n",
    "        except Exception as e:\n",
    "            import traceback\n",
    "            traceback.print_exc()\n",
    "\n",
    "    def step(self, action): #step process\n",
    "        self.socket.send(action) #send action to server\n",
    "        try:\n",
    "            message = self.socket.receive() #receive new state from server\n",
    "            self.state.update_state(message) #update to local state\n",
    "        except Exception as e:\n",
    "            import traceback\n",
    "            traceback.print_exc()\n",
    "\n",
    "    # Functions are customized by client\n",
    "    def get_state(self):\n",
    "        # Building the map\n",
    "        #view = np.zeros([self.state.mapInfo.max_x + 1, self.state.mapInfo.max_y + 1], dtype=int)\n",
    "        view = np.zeros([self.state.mapInfo.max_y + 1, self.state.mapInfo.max_x + 1], dtype=int)\n",
    "        for x in range(self.state.mapInfo.max_x + 1):\n",
    "            for y in range(self.state.mapInfo.max_y + 1):\n",
    "                if self.state.mapInfo.get_obstacle(x, y) == TreeID:  # Tree\n",
    "                    view[y, x] = -TreeID\n",
    "                if self.state.mapInfo.get_obstacle(x, y) == TrapID:  # Trap\n",
    "                    view[y, x] = -TrapID\n",
    "                if self.state.mapInfo.get_obstacle(x, y) == SwampID: # Swamp\n",
    "                    view[y, x] = -SwampID\n",
    "                if self.state.mapInfo.gold_amount(x, y) > 0:\n",
    "                    view[y, x] = self.state.mapInfo.gold_amount(x, y)\n",
    "\n",
    "        DQNState = view.flatten().tolist() #Flattening the map matrix to a vector\n",
    "        \n",
    "        # Add position and energy of agent to the DQNState\n",
    "        DQNState.append(self.state.x)\n",
    "        DQNState.append(self.state.y)\n",
    "        DQNState.append(self.state.energy)\n",
    "        #Add position of bots \n",
    "        for player in self.state.players:\n",
    "            if player[\"playerId\"] != self.state.id:\n",
    "                DQNState.append(player[\"posx\"])\n",
    "                DQNState.append(player[\"posy\"])\n",
    "                \n",
    "        #Convert the DQNState from list to array for training\n",
    "        DQNState = np.array(DQNState)\n",
    "\n",
    "        return DQNState\n",
    "\n",
    "    def get_reward(self):\n",
    "        # Initialize reward\n",
    "        reward = 0\n",
    "        score_action = self.state.score - self.score_pre\n",
    "        self.score_pre = self.state.score\n",
    "        if score_action > 0:\n",
    "            reward += score_action*(100 - self.state.stepCount)\n",
    "            \n",
    "        ##If the DQN agent crashs into obstacels (Tree, Trap, Swamp), then it should be punished by a negative reward\n",
    "        #if self.state.mapInfo.get_obstacle(self.state.x, self.state.y) == TreeID:  # Tree\n",
    "        #    reward -= TreeID\n",
    "        #if self.state.mapInfo.get_obstacle(self.state.x, self.state.y) == TrapID:  # Trap\n",
    "        #    reward -= TrapID\n",
    "        #if self.state.mapInfo.get_obstacle(self.state.x, self.state.y) == SwampID:  # Swamp\n",
    "        #    reward -= SwampID\n",
    "        #    if self.state.lastAction == 4:\n",
    "        #        reward -= 40\n",
    "\n",
    "        # If out of the map, then the DQN agent should be punished by a larger nagative reward.\n",
    "        if self.state.status == State.STATUS_ELIMINATED_WENT_OUT_MAP:\n",
    "            #if self.state.stepCount < 50:\n",
    "            #    reward += -5*(50 - self.state.stepCount)\n",
    "            reward = 0\n",
    "            \n",
    "        if self.state.status == State.STATUS_STOP_END_STEP:\n",
    "            #reward += (self.state.score/total_gold) * 100\n",
    "            pass\n",
    "        #Run out of energy, then the DQN agent should be punished by a larger nagative reward.\n",
    "        if self.state.status == State.STATUS_ELIMINATED_OUT_OF_ENERGY:\n",
    "            if self.state.lastAction != int(constants.available_actions[\"rest\"]):\n",
    "                # Unless it is the last step and dig was more urgent\n",
    "                reward = 0\n",
    "        \n",
    "        ## control comes to here \\implies our agent is not dead yet\n",
    "        if self.state.status == State.STATUS_PLAYING:\n",
    "            if self.state.energy > 40 and self.state.lastAction == int(constants.available_actions[\"rest\"]):\n",
    "                reward = 1\n",
    "            else:\n",
    "                reward += 1\n",
    "        ## print (\"reward\",reward)\n",
    "        return reward\n",
    "\n",
    "    def check_terminate(self):\n",
    "        #Checking the status of the game\n",
    "        #it indicates the game ends or is playing\n",
    "        return self.state.status != State.STATUS_PLAYING"
   ]
  },
  {
   "cell_type": "code",
   "execution_count": 10,
   "metadata": {},
   "outputs": [],
   "source": [
    "# Maps of 1st round\n",
    "def CreateMaps():\n",
    "    map0 = [\n",
    "      [450,-2,0,-2,150,-1,0,0,0,0,-1,-2,-2,-2,0,0,0,0,150,-2,350],\n",
    "      [-2,-2,-2,-2,-1,0,-1,-1,-1,-1,-3,50,-2,-2,-2,-2,-3,-3,50,-2,-1],\n",
    "      [-2,-2,200,-2,0,-2,0,-2,-3,-3,-2,0,-3,-2,-2,150,-3,-3,0,0,50],\n",
    "      [0,-3,-3,-2,0,0,-1,0,550,-3,-2,0,0,0,-1,0,0,-1,-1,-1,-2],\n",
    "      [-2,0,0,0,-1,0,-1,50,300,-3,-2,0,-3,0,0,0,-1,-3,-3,-2,-1],\n",
    "      [-1,-3,-1,-3,0,-2,0,0,-2,-1,100,-3,0,-2,300,-3,0,-2,-3,-2,0],\n",
    "      [-2,-3,-1,-3,-1,500,-1,-3,-2,-1,0,-1,0,-1,0,-1,0,-2,-3,-3,-1],\n",
    "      [0,-3,-1,-3,0,-2,-3,-3,0,0,0,0,-2,0,-2,-3,-3,-3,-3,200,-1],\n",
    "      [1200,-3,-1,-3,-1,-1,-2,-2,0,-1,150,-2,0,-2,0,0,-2,-3,-3,1500,50],\n",
    "    ]\n",
    "    map1 = [\n",
    "      [550,-1,-1,-2,-2,-2,-2,150,0,0,0,-3,-2,400,-3,650,-2,-1,0,0,0],\n",
    "      [350,-1,-1,-2,0,0,-2,-2,-2,-1,0,-3,-3,-2,300,-2,-1,650,-2,-1,0],\n",
    "      [-1,-1,450,-2,0,0,0,0,0,0,0,0,0,-3,-3,-3,-1,-1,-3,0,0],\n",
    "      [-1,-1,-2,-2,0,-3,-2,0,0,-3,-3,-3,0,0,0,0,0,0,-3,0,150],\n",
    "      [0,0,-2,0,-3,-3,-3,0,-1,-2,400,-3,-3,0,-2,0,-1,0,-3,0,0],\n",
    "      [0,200,-2,0,-3,250,-1,0,0,-1,-2,-3,-2,0,-1,300,-1,0,-3,-1,0],\n",
    "      [-3,-3,-2,0,-3,-3,-3,0,0,0,0,-3,-3,-3,-2,-2,-2,0,-2,-2,0],\n",
    "      [-1,-3,-2,0,0,-2,0,0,-3,-3,-3,-3,150,-3,0,0,0,0,-2,200,0],\n",
    "      [800,-3,-2,-3,450,-2,0,-3,-3,200,-1,250,-1,-3,0,-1,-1,0,0,0,0],\n",
    "    ]\n",
    "    map2 = [\n",
    "      [200,-2,-2,250,-2,0,-2,-1,0,-3,500,-3,-3,0,0,0,0,0,-3,450,-3],\n",
    "      [-2,-2,-1,-2,-1,0,-3,200,-2,0,-3,0,150,0,-2,-1,0,0,0,-3,0],\n",
    "      [-3,-2,-1,-3,-1,0,0,-3,-2,0,0,0,-1,-2,450,-2,0,-2,150,-2,0],\n",
    "      [300,-3,-3,300,-2,-2,-2,-2,300,-2,-2,0,0,0,-2,0,-3,-3,-3,-2,0],\n",
    "      [-3,-3,0,-3,-1,350,-1,0,-2,-2,350,-2,0,-3,0,0,-3,300,-3,-2,250],\n",
    "      [-3,0,0,0,-1,-1,-1,-1,-3,0,-2,0,-3,400,-3,0,-3,-3,-3,0,0],\n",
    "      [450,-3,0,0,0,0,-1,400,-3,0,0,0,-2,-3,-2,0,0,0,0,0,0],\n",
    "      [-3,0,-1,0,-1,0,-3,-3,-3,0,-1,0,0,0,250,-3,-3,-3,-1,-2,-2],\n",
    "      [0,0,-1,200,-1,-3,500,-3,0,-1,200,-1,0,0,-2,-2,-2,-1,400,-1,-2],\n",
    "    ]\n",
    "    map3 = [\n",
    "      [0,-1,0,0,0,0,0,-3,0,-1,0,-1,-3,150,500,200,-1,0,-2,-1,0],\n",
    "      [-3,500,-3,-2,350,-1,0,0,0,0,0,0,-1,-1,50,-1,0,0,-2,350,-3],\n",
    "      [-1,-3,-2,0,-1,-2,0,-1,0,0,0,0,0,0,-2,-1,0,0,-2,-1,-3],\n",
    "      [0,-3,0,0,0,0,-2,600,-3,0,0,-2,-2,0,-2,0,0,0,0,0,0],\n",
    "      [0,0,0,0,-1,-1,0,-3,0,-1,400,-3,-2,0,0,0,-1,-2,-1,-1,-1],\n",
    "      [-1,0,0,-1,-3,-3,-1,-1,0,0,-3,-2,0,0,0,0,-1,700,-1,-1,-3],\n",
    "      [350,-2,-1,-3,-2,-3,-3,-1,0,-3,0,0,0,0,-3,0,-1,-1,-1,-3,200],\n",
    "      [0,-1,-3,-2,250,-2,-3,-1,0,0,0,0,-2,0,0,0,0,-1,-3,300,0],\n",
    "      [0,-3,-2,300,1000,-2,-3,-1,0,-1,0,-2,100,-2,-1,0,-1,-3,400,0,800],\n",
    "    ]\n",
    "    map4 = [\n",
    "      [0,0,0,0,0,0,0,-2,0,0,0,0,-2,0,0,0,0,-1,-1,800,-1],\n",
    "      [100,-1,-3,-2,0,0,-1,200,-1,-2,250,-2,-2,250,-1,0,0,-1,-2,-1,-2],\n",
    "      [-1,700,-1,-3,150,-1,-1,-3,-3,-2,-2,-1,-3,-2,-1,0,0,-3,0,-1,0],\n",
    "      [0,-1,-3,0,-1,0,-3,-3,-1,-3,-1,600,-1,-3,-2,-1,-3,500,-1,0,0],\n",
    "      [0,-3,0,0,0,0,-2,-1,350,-1,50,-1,-3,50,0,0,0,-1,0,0,-2],\n",
    "      [0,0,0,-3,250,-3,-3,-3,-1,500,450,-1,-3,0,-1,0,0,0,0,-2,100],\n",
    "      [0,-3,0,0,-3,0,0,0,-3,-1,-1,-3,0,0,-2,300,-2,-1,0,0,-2],\n",
    "      [0,-1,-3,-2,0,0,0,-1,0,-3,-3,-3,-1,-2,-2,-1,-2,0,-1,0,0],\n",
    "      [-1,500,-1,-3,-2,0,-1,450,-1,0,0,-1,500,-1,-2,-1,-2,0,50,0,0],\n",
    "    ]\n",
    "    Maps = (map0,map1,map2,map3,map4)\n",
    "    return Maps"
   ]
  },
  {
   "cell_type": "code",
   "execution_count": 11,
   "metadata": {},
   "outputs": [
    {
     "name": "stdout",
     "output_type": "stream",
     "text": [
      "Connected to server.\n",
      "Found: map0\n",
      "Found: map1\n",
      "Found: map2\n",
      "Found: map3\n",
      "Found: map4\n"
     ]
    }
   ],
   "source": [
    "Maps = CreateMaps()\n",
    "env = MinerEnv() # Creating a communication environment between the DQN model and the game environment\n",
    "env.start() # Connect to the game"
   ]
  },
  {
   "cell_type": "markdown",
   "metadata": {},
   "source": [
    "There is sth called <code><b>GameSocket.energyOnMap</b></code> in the design of this gaming environment, which is of the same shape as the map view and which records the number that should be subtracted from the energy of a particular player in case they step into the coordinate (x, y). \n"
   ]
  },
  {
   "cell_type": "raw",
   "metadata": {},
   "source": [
    "env.energyOnMap"
   ]
  },
  {
   "cell_type": "raw",
   "metadata": {},
   "source": [
    "AttributeError: 'MinerEnv' object has no attribute 'energyOnMap'"
   ]
  },
  {
   "cell_type": "code",
   "execution_count": 12,
   "metadata": {},
   "outputs": [
    {
     "data": {
      "text/plain": [
       "[]"
      ]
     },
     "execution_count": 12,
     "metadata": {},
     "output_type": "execute_result"
    }
   ],
   "source": [
    "env.socket.energyOnMap"
   ]
  },
  {
   "cell_type": "code",
   "execution_count": 13,
   "metadata": {},
   "outputs": [
    {
     "data": {
      "text/plain": [
       "list"
      ]
     },
     "execution_count": 13,
     "metadata": {},
     "output_type": "execute_result"
    }
   ],
   "source": [
    "type(env.socket.energyOnMap)"
   ]
  },
  {
   "cell_type": "code",
   "execution_count": 14,
   "metadata": {},
   "outputs": [
    {
     "data": {
      "text/plain": [
       "array([], dtype=float64)"
      ]
     },
     "execution_count": 14,
     "metadata": {},
     "output_type": "execute_result"
    }
   ],
   "source": [
    "np.array(env.socket.energyOnMap)"
   ]
  },
  {
   "cell_type": "code",
   "execution_count": 15,
   "metadata": {},
   "outputs": [
    {
     "name": "stdout",
     "output_type": "stream",
     "text": [
      "map3,10,2,50,100\n"
     ]
    }
   ],
   "source": [
    "mapID = np.random.randint(0, 5)\n",
    "posID_x = np.random.randint(constants.width) \n",
    "posID_y = np.random.randint(constants.height)\n",
    "request = \"map{},{},{},50,100\".format(mapID, posID_x, posID_y)\n",
    "print(request)\n",
    "env.send_map_info(request)\n",
    "#obs = env.reset()\n",
    "env.reset()"
   ]
  },
  {
   "cell_type": "code",
   "execution_count": 16,
   "metadata": {},
   "outputs": [
    {
     "data": {
      "text/plain": [
       "[[-1,\n",
       "  0,\n",
       "  -1,\n",
       "  -1,\n",
       "  -1,\n",
       "  -1,\n",
       "  -1,\n",
       "  -5,\n",
       "  -1,\n",
       "  0,\n",
       "  -1,\n",
       "  0,\n",
       "  -5,\n",
       "  -4,\n",
       "  -4,\n",
       "  -4,\n",
       "  0,\n",
       "  -1,\n",
       "  -10,\n",
       "  0,\n",
       "  -1],\n",
       " [-5,\n",
       "  -4,\n",
       "  -5,\n",
       "  -10,\n",
       "  -4,\n",
       "  0,\n",
       "  -1,\n",
       "  -1,\n",
       "  -1,\n",
       "  -1,\n",
       "  -1,\n",
       "  -1,\n",
       "  0,\n",
       "  0,\n",
       "  -4,\n",
       "  0,\n",
       "  -1,\n",
       "  -1,\n",
       "  -10,\n",
       "  -4,\n",
       "  -5],\n",
       " [0,\n",
       "  -5,\n",
       "  -10,\n",
       "  -1,\n",
       "  0,\n",
       "  -10,\n",
       "  -1,\n",
       "  0,\n",
       "  -1,\n",
       "  -1,\n",
       "  -1,\n",
       "  -1,\n",
       "  -1,\n",
       "  -1,\n",
       "  -10,\n",
       "  0,\n",
       "  -1,\n",
       "  -1,\n",
       "  -10,\n",
       "  0,\n",
       "  -5],\n",
       " [-1,\n",
       "  -5,\n",
       "  -1,\n",
       "  -1,\n",
       "  -1,\n",
       "  -1,\n",
       "  -10,\n",
       "  -4,\n",
       "  -5,\n",
       "  -1,\n",
       "  -1,\n",
       "  -10,\n",
       "  -10,\n",
       "  -1,\n",
       "  -10,\n",
       "  -1,\n",
       "  -1,\n",
       "  -1,\n",
       "  -1,\n",
       "  -1,\n",
       "  -1],\n",
       " [-1,\n",
       "  -1,\n",
       "  -1,\n",
       "  -1,\n",
       "  0,\n",
       "  0,\n",
       "  -1,\n",
       "  -5,\n",
       "  -1,\n",
       "  0,\n",
       "  -4,\n",
       "  -5,\n",
       "  -10,\n",
       "  -1,\n",
       "  -1,\n",
       "  -1,\n",
       "  0,\n",
       "  -10,\n",
       "  0,\n",
       "  0,\n",
       "  0],\n",
       " [0,\n",
       "  -1,\n",
       "  -1,\n",
       "  0,\n",
       "  -5,\n",
       "  -5,\n",
       "  0,\n",
       "  0,\n",
       "  -1,\n",
       "  -1,\n",
       "  -5,\n",
       "  -10,\n",
       "  -1,\n",
       "  -1,\n",
       "  -1,\n",
       "  -1,\n",
       "  0,\n",
       "  -4,\n",
       "  0,\n",
       "  0,\n",
       "  -5],\n",
       " [-4,\n",
       "  -10,\n",
       "  0,\n",
       "  -5,\n",
       "  -10,\n",
       "  -5,\n",
       "  -5,\n",
       "  0,\n",
       "  -1,\n",
       "  -5,\n",
       "  -1,\n",
       "  -1,\n",
       "  -1,\n",
       "  -1,\n",
       "  -5,\n",
       "  -1,\n",
       "  0,\n",
       "  0,\n",
       "  0,\n",
       "  -5,\n",
       "  -4],\n",
       " [-1,\n",
       "  0,\n",
       "  -5,\n",
       "  -10,\n",
       "  -4,\n",
       "  -10,\n",
       "  -5,\n",
       "  0,\n",
       "  -1,\n",
       "  -1,\n",
       "  -1,\n",
       "  -1,\n",
       "  -10,\n",
       "  -1,\n",
       "  -1,\n",
       "  -1,\n",
       "  -1,\n",
       "  0,\n",
       "  -5,\n",
       "  -4,\n",
       "  -1],\n",
       " [-1,\n",
       "  -5,\n",
       "  -10,\n",
       "  -4,\n",
       "  -4,\n",
       "  -10,\n",
       "  -5,\n",
       "  0,\n",
       "  -1,\n",
       "  0,\n",
       "  -1,\n",
       "  -10,\n",
       "  -4,\n",
       "  -10,\n",
       "  0,\n",
       "  -1,\n",
       "  0,\n",
       "  -5,\n",
       "  -4,\n",
       "  -1,\n",
       "  -4]]"
      ]
     },
     "execution_count": 16,
     "metadata": {},
     "output_type": "execute_result"
    }
   ],
   "source": [
    "env.socket.energyOnMap"
   ]
  },
  {
   "cell_type": "code",
   "execution_count": 17,
   "metadata": {},
   "outputs": [
    {
     "data": {
      "text/plain": [
       "list"
      ]
     },
     "execution_count": 17,
     "metadata": {},
     "output_type": "execute_result"
    }
   ],
   "source": [
    "type(env.socket.energyOnMap)"
   ]
  },
  {
   "cell_type": "code",
   "execution_count": 18,
   "metadata": {},
   "outputs": [
    {
     "data": {
      "text/plain": [
       "array([[ -1,   0,  -1,  -1,  -1,  -1,  -1,  -5,  -1,   0,  -1,   0,  -5,\n",
       "         -4,  -4,  -4,   0,  -1, -10,   0,  -1],\n",
       "       [ -5,  -4,  -5, -10,  -4,   0,  -1,  -1,  -1,  -1,  -1,  -1,   0,\n",
       "          0,  -4,   0,  -1,  -1, -10,  -4,  -5],\n",
       "       [  0,  -5, -10,  -1,   0, -10,  -1,   0,  -1,  -1,  -1,  -1,  -1,\n",
       "         -1, -10,   0,  -1,  -1, -10,   0,  -5],\n",
       "       [ -1,  -5,  -1,  -1,  -1,  -1, -10,  -4,  -5,  -1,  -1, -10, -10,\n",
       "         -1, -10,  -1,  -1,  -1,  -1,  -1,  -1],\n",
       "       [ -1,  -1,  -1,  -1,   0,   0,  -1,  -5,  -1,   0,  -4,  -5, -10,\n",
       "         -1,  -1,  -1,   0, -10,   0,   0,   0],\n",
       "       [  0,  -1,  -1,   0,  -5,  -5,   0,   0,  -1,  -1,  -5, -10,  -1,\n",
       "         -1,  -1,  -1,   0,  -4,   0,   0,  -5],\n",
       "       [ -4, -10,   0,  -5, -10,  -5,  -5,   0,  -1,  -5,  -1,  -1,  -1,\n",
       "         -1,  -5,  -1,   0,   0,   0,  -5,  -4],\n",
       "       [ -1,   0,  -5, -10,  -4, -10,  -5,   0,  -1,  -1,  -1,  -1, -10,\n",
       "         -1,  -1,  -1,  -1,   0,  -5,  -4,  -1],\n",
       "       [ -1,  -5, -10,  -4,  -4, -10,  -5,   0,  -1,   0,  -1, -10,  -4,\n",
       "        -10,   0,  -1,   0,  -5,  -4,  -1,  -4]])"
      ]
     },
     "execution_count": 18,
     "metadata": {},
     "output_type": "execute_result"
    }
   ],
   "source": [
    "np.array(env.socket.energyOnMap)"
   ]
  },
  {
   "cell_type": "code",
   "execution_count": 19,
   "metadata": {},
   "outputs": [
    {
     "data": {
      "text/plain": [
       "(9, 21)"
      ]
     },
     "execution_count": 19,
     "metadata": {},
     "output_type": "execute_result"
    }
   ],
   "source": [
    "np.array(env.socket.energyOnMap).shape"
   ]
  },
  {
   "cell_type": "code",
   "execution_count": 20,
   "metadata": {},
   "outputs": [
    {
     "data": {
      "text/plain": [
       "array([[   0,   -1,    0,    0,    0,    0,    0,   -3,    0,   -1,    0,\n",
       "          -1,   -3,  150,  500,  200,   -1,    0,   -2,   -1,    0],\n",
       "       [  -3,  500,   -3,   -2,  350,   -1,    0,    0,    0,    0,    0,\n",
       "           0,   -1,   -1,   50,   -1,    0,    0,   -2,  350,   -3],\n",
       "       [  -1,   -3,   -2,    0,   -1,   -2,    0,   -1,    0,    0,    0,\n",
       "           0,    0,    0,   -2,   -1,    0,    0,   -2,   -1,   -3],\n",
       "       [   0,   -3,    0,    0,    0,    0,   -2,  600,   -3,    0,    0,\n",
       "          -2,   -2,    0,   -2,    0,    0,    0,    0,    0,    0],\n",
       "       [   0,    0,    0,    0,   -1,   -1,    0,   -3,    0,   -1,  400,\n",
       "          -3,   -2,    0,    0,    0,   -1,   -2,   -1,   -1,   -1],\n",
       "       [  -1,    0,    0,   -1,   -3,   -3,   -1,   -1,    0,    0,   -3,\n",
       "          -2,    0,    0,    0,    0,   -1,  700,   -1,   -1,   -3],\n",
       "       [ 350,   -2,   -1,   -3,   -2,   -3,   -3,   -1,    0,   -3,    0,\n",
       "           0,    0,    0,   -3,    0,   -1,   -1,   -1,   -3,  200],\n",
       "       [   0,   -1,   -3,   -2,  250,   -2,   -3,   -1,    0,    0,    0,\n",
       "           0,   -2,    0,    0,    0,    0,   -1,   -3,  300,    0],\n",
       "       [   0,   -3,   -2,  300, 1000,   -2,   -3,   -1,    0,   -1,    0,\n",
       "          -2,  100,   -2,   -1,    0,   -1,   -3,  400,    0,  800]])"
      ]
     },
     "execution_count": 20,
     "metadata": {},
     "output_type": "execute_result"
    }
   ],
   "source": [
    "import constants\n",
    "env.get_state()[:constants.n_px].reshape((9,21))"
   ]
  },
  {
   "cell_type": "code",
   "execution_count": 21,
   "metadata": {},
   "outputs": [],
   "source": [
    "E = np.array(env.socket.energyOnMap)\n",
    "A = env.get_state()[:constants.n_px].reshape((9,21))"
   ]
  },
  {
   "cell_type": "code",
   "execution_count": 22,
   "metadata": {},
   "outputs": [],
   "source": [
    "forest_subtract = 20"
   ]
  },
  {
   "cell_type": "code",
   "execution_count": 23,
   "metadata": {},
   "outputs": [
    {
     "data": {
      "text/plain": [
       "array([[ -1, -20,  -1,  -1,  -1,  -1,  -1,  -5,  -1, -20,  -1, -20,  -5,\n",
       "         -4,  -4,  -4, -20,  -1, -10, -20,  -1],\n",
       "       [ -5,  -4,  -5, -10,  -4, -20,  -1,  -1,  -1,  -1,  -1,  -1, -20,\n",
       "        -20,  -4, -20,  -1,  -1, -10,  -4,  -5],\n",
       "       [-20,  -5, -10,  -1, -20, -10,  -1, -20,  -1,  -1,  -1,  -1,  -1,\n",
       "         -1, -10, -20,  -1,  -1, -10, -20,  -5],\n",
       "       [ -1,  -5,  -1,  -1,  -1,  -1, -10,  -4,  -5,  -1,  -1, -10, -10,\n",
       "         -1, -10,  -1,  -1,  -1,  -1,  -1,  -1],\n",
       "       [ -1,  -1,  -1,  -1, -20, -20,  -1,  -5,  -1, -20,  -4,  -5, -10,\n",
       "         -1,  -1,  -1, -20, -10, -20, -20, -20],\n",
       "       [-20,  -1,  -1, -20,  -5,  -5, -20, -20,  -1,  -1,  -5, -10,  -1,\n",
       "         -1,  -1,  -1, -20,  -4, -20, -20,  -5],\n",
       "       [ -4, -10, -20,  -5, -10,  -5,  -5, -20,  -1,  -5,  -1,  -1,  -1,\n",
       "         -1,  -5,  -1, -20, -20, -20,  -5,  -4],\n",
       "       [ -1, -20,  -5, -10,  -4, -10,  -5, -20,  -1,  -1,  -1,  -1, -10,\n",
       "         -1,  -1,  -1,  -1, -20,  -5,  -4,  -1],\n",
       "       [ -1,  -5, -10,  -4,  -4, -10,  -5, -20,  -1, -20,  -1, -10,  -4,\n",
       "        -10, -20,  -1, -20,  -5,  -4,  -1,  -4]])"
      ]
     },
     "execution_count": 23,
     "metadata": {},
     "output_type": "execute_result"
    }
   ],
   "source": [
    "E_forest = E.copy()\n",
    "E_forest[E==0] = -forest_subtract\n",
    "E_forest"
   ]
  },
  {
   "cell_type": "code",
   "execution_count": 25,
   "metadata": {},
   "outputs": [
    {
     "data": {
      "text/plain": [
       "array([[-9999, -9999, -9999, -9999, -9999, -9999, -9999, -9999, -9999,\n",
       "        -9999, -9999, -9999, -9999,   150,   500,   200, -9999, -9999,\n",
       "        -9999, -9999, -9999],\n",
       "       [-9999,   500, -9999, -9999,   350, -9999, -9999, -9999, -9999,\n",
       "        -9999, -9999, -9999, -9999, -9999,    50, -9999, -9999, -9999,\n",
       "        -9999,   350, -9999],\n",
       "       [-9999, -9999, -9999, -9999, -9999, -9999, -9999, -9999, -9999,\n",
       "        -9999, -9999, -9999, -9999, -9999, -9999, -9999, -9999, -9999,\n",
       "        -9999, -9999, -9999],\n",
       "       [-9999, -9999, -9999, -9999, -9999, -9999, -9999,   600, -9999,\n",
       "        -9999, -9999, -9999, -9999, -9999, -9999, -9999, -9999, -9999,\n",
       "        -9999, -9999, -9999],\n",
       "       [-9999, -9999, -9999, -9999, -9999, -9999, -9999, -9999, -9999,\n",
       "        -9999,   400, -9999, -9999, -9999, -9999, -9999, -9999, -9999,\n",
       "        -9999, -9999, -9999],\n",
       "       [-9999, -9999, -9999, -9999, -9999, -9999, -9999, -9999, -9999,\n",
       "        -9999, -9999, -9999, -9999, -9999, -9999, -9999, -9999,   700,\n",
       "        -9999, -9999, -9999],\n",
       "       [  350, -9999, -9999, -9999, -9999, -9999, -9999, -9999, -9999,\n",
       "        -9999, -9999, -9999, -9999, -9999, -9999, -9999, -9999, -9999,\n",
       "        -9999, -9999,   200],\n",
       "       [-9999, -9999, -9999, -9999,   250, -9999, -9999, -9999, -9999,\n",
       "        -9999, -9999, -9999, -9999, -9999, -9999, -9999, -9999, -9999,\n",
       "        -9999,   300, -9999],\n",
       "       [-9999, -9999, -9999,   300,  1000, -9999, -9999, -9999, -9999,\n",
       "        -9999, -9999, -9999,   100, -9999, -9999, -9999, -9999, -9999,\n",
       "          400, -9999,   800]])"
      ]
     },
     "execution_count": 25,
     "metadata": {},
     "output_type": "execute_result"
    }
   ],
   "source": [
    "A_gold = A.copy()\n",
    "A_gold[A <= 0] = -9999\n",
    "A_gold"
   ]
  },
  {
   "cell_type": "code",
   "execution_count": 28,
   "metadata": {},
   "outputs": [
    {
     "data": {
      "text/plain": [
       "array([[  -1,  -20,   -1,   -1,   -1,   -1,   -1,   -5,   -1,  -20,   -1,\n",
       "         -20,   -5,  150,  500,  200,  -20,   -1,  -10,  -20,   -1],\n",
       "       [  -5,  500,   -5,  -10,  350,  -20,   -1,   -1,   -1,   -1,   -1,\n",
       "          -1,  -20,  -20,   50,  -20,   -1,   -1,  -10,  350,   -5],\n",
       "       [ -20,   -5,  -10,   -1,  -20,  -10,   -1,  -20,   -1,   -1,   -1,\n",
       "          -1,   -1,   -1,  -10,  -20,   -1,   -1,  -10,  -20,   -5],\n",
       "       [  -1,   -5,   -1,   -1,   -1,   -1,  -10,  600,   -5,   -1,   -1,\n",
       "         -10,  -10,   -1,  -10,   -1,   -1,   -1,   -1,   -1,   -1],\n",
       "       [  -1,   -1,   -1,   -1,  -20,  -20,   -1,   -5,   -1,  -20,  400,\n",
       "          -5,  -10,   -1,   -1,   -1,  -20,  -10,  -20,  -20,  -20],\n",
       "       [ -20,   -1,   -1,  -20,   -5,   -5,  -20,  -20,   -1,   -1,   -5,\n",
       "         -10,   -1,   -1,   -1,   -1,  -20,  700,  -20,  -20,   -5],\n",
       "       [ 350,  -10,  -20,   -5,  -10,   -5,   -5,  -20,   -1,   -5,   -1,\n",
       "          -1,   -1,   -1,   -5,   -1,  -20,  -20,  -20,   -5,  200],\n",
       "       [  -1,  -20,   -5,  -10,  250,  -10,   -5,  -20,   -1,   -1,   -1,\n",
       "          -1,  -10,   -1,   -1,   -1,   -1,  -20,   -5,  300,   -1],\n",
       "       [  -1,   -5,  -10,  300, 1000,  -10,   -5,  -20,   -1,  -20,   -1,\n",
       "         -10,  100,  -10,  -20,   -1,  -20,   -5,  400,   -1,  800]])"
      ]
     },
     "execution_count": 28,
     "metadata": {},
     "output_type": "execute_result"
    }
   ],
   "source": [
    "res = np.maximum(A_gold, E_forest)\n",
    "res"
   ]
  },
  {
   "cell_type": "code",
   "execution_count": null,
   "metadata": {},
   "outputs": [],
   "source": [
    "obs = env.get_state()\n",
    "print(f\"obs[9*21:] = {obs[9*21:]}\")\n",
    "obs[:9*21].reshape((9,21))"
   ]
  },
  {
   "cell_type": "code",
   "execution_count": null,
   "metadata": {},
   "outputs": [],
   "source": [
    "eliminated = []\n",
    "def pictorial_state(obs):\n",
    "    pictorial = np.zeros((constants.height, constants.width, 1+4), dtype=np.float32)\n",
    "    # 1+4 is +1 for map and +1 for each of the players = 5 channels\n",
    "    # dtype=np.float32 because pictorial will later be carried into tensorflow CNN\n",
    "    pictorial[..., 0] = obs[:constants.n_px].reshape((constants.height, constants.width))\n",
    "    # position of agent: we put the energy value at the coordinate where stands the agent, the whole in channel 1, the channel for the agent.\n",
    "    x_agent, y_agent = obs[constants.n_px], obs[constants.n_px+1]\n",
    "    if x_agent >= constants.width or y_agent >= constants.height:\n",
    "        pass\n",
    "    else:\n",
    "        pictorial[y_agent, x_agent, 1] = obs[constants.n_px+2]\n",
    "    # position of bots: we put -1 on the coord of the bots\n",
    "    for i in range(1, 3+1):\n",
    "        if i in eliminated:\n",
    "            continue\n",
    "        y = obs[constants.n_px+(2*i+2)]\n",
    "        x = obs[constants.n_px+(2*i+1)]\n",
    "        if x >= constants.width or y >= constants.height:\n",
    "            eliminated.append(i)\n",
    "            continue\n",
    "        pictorial[y, x, i+1] = -1\n",
    "    return pictorial"
   ]
  },
  {
   "cell_type": "code",
   "execution_count": null,
   "metadata": {},
   "outputs": [],
   "source": [
    "obs[constants.n_px:]"
   ]
  },
  {
   "cell_type": "code",
   "execution_count": null,
   "metadata": {},
   "outputs": [],
   "source": [
    "pix = pictorial_state(obs)\n",
    "pix[...,0]"
   ]
  },
  {
   "cell_type": "code",
   "execution_count": null,
   "metadata": {},
   "outputs": [],
   "source": [
    "pix[...,1]"
   ]
  },
  {
   "cell_type": "code",
   "execution_count": null,
   "metadata": {},
   "outputs": [],
   "source": [
    "pix[...,-1]"
   ]
  },
  {
   "cell_type": "code",
   "execution_count": null,
   "metadata": {},
   "outputs": [],
   "source": [
    "from tensorflow.keras.layers import Dense, Conv2D, MaxPooling2D, Dropout, Flatten"
   ]
  },
  {
   "cell_type": "code",
   "execution_count": null,
   "metadata": {},
   "outputs": [],
   "source": [
    "#tf.random.set_seed(42)\n",
    "np.random.seed(42)\n",
    "\n",
    "input_shape = [constants.height, constants.width, 1+4]\n",
    "n_outputs = 6\n",
    "\n",
    "#model = keras.models.Sequential([\n",
    "#    Conv2D(64, 3, activation=\"relu\", padding=\"same\", input_shape=input_shape),\n",
    "#    MaxPooling2D(2),\n",
    "#    Conv2D(128, 3, activation=\"relu\", padding=\"same\"),\n",
    "#    Conv2D(128, 3, activation=\"relu\", padding=\"same\"),\n",
    "#    MaxPooling2D(2),\n",
    "#    Flatten(),\n",
    "#    Dense(128, activation=\"elu\"),\n",
    "#    Dense(128, activation=\"elu\"),\n",
    "#    Dense(128, activation=\"elu\"),\n",
    "#    Dense(64, activation=\"elu\"),\n",
    "#    Dense(n_outputs)\n",
    "#])\n",
    "\n",
    "model = keras.models.load_model(\"never_out_map.h5\")"
   ]
  },
  {
   "cell_type": "code",
   "execution_count": null,
   "metadata": {},
   "outputs": [],
   "source": [
    "max_replay_len = 2000"
   ]
  },
  {
   "cell_type": "code",
   "execution_count": null,
   "metadata": {},
   "outputs": [],
   "source": [
    "from collections import deque\n",
    "replay_memory = deque(maxlen=max_replay_len)"
   ]
  },
  {
   "cell_type": "code",
   "execution_count": null,
   "metadata": {},
   "outputs": [],
   "source": [
    "def sample_experiences(batch_size):\n",
    "    indices = np.random.randint(len(replay_memory), size=batch_size)\n",
    "    batch = [replay_memory[index] for index in indices]\n",
    "    states, actions, rewards, next_states, dones = [\n",
    "        np.array([experience[field_index] for experience in batch])\n",
    "        for field_index in range(5)]\n",
    "    return states, actions, rewards, next_states, dones"
   ]
  },
  {
   "cell_type": "code",
   "execution_count": null,
   "metadata": {},
   "outputs": [],
   "source": [
    "def epsilon_greedy_policy(state, epsilon=0, n_actions=6):\n",
    "    if np.random.rand() < epsilon:\n",
    "        return np.random.randint(n_actions)\n",
    "    else:\n",
    "        pictorial = pictorial_state(state)\n",
    "        Q_values = model.predict(pictorial[np.newaxis])\n",
    "        return np.argmax(Q_values[0])"
   ]
  },
  {
   "cell_type": "code",
   "execution_count": null,
   "metadata": {},
   "outputs": [],
   "source": [
    "def play_one_step(env, state, epsilon):\n",
    "    action = epsilon_greedy_policy(state, epsilon)\n",
    "    #next_state, reward, done, info = env.step(action)\n",
    "    env.step(str(action))\n",
    "    next_state = env.get_state()\n",
    "    reward = env.get_reward()\n",
    "    done = env.check_terminate()\n",
    "    replay_memory.append((state, action, reward, next_state, done))\n",
    "    return next_state, reward, done"
   ]
  },
  {
   "cell_type": "code",
   "execution_count": null,
   "metadata": {},
   "outputs": [],
   "source": [
    "batch_size = 32\n",
    "discount_rate = 0.95\n",
    "optimizer = keras.optimizers.Adam(lr=1e-3)\n",
    "loss_fn = keras.losses.mean_squared_error\n",
    "\n",
    "def training_step(batch_size):\n",
    "    experiences = sample_experiences(batch_size)\n",
    "    states, actions, rewards, next_states, dones = experiences\n",
    "    pictorials = np.array([pictorial_state(s) for s in states])\n",
    "    next_pictorials = np.array([pictorial_state(next_s) for next_s in next_states])\n",
    "    next_Q_values = model.predict(next_pictorials)\n",
    "    max_next_Q_values = np.max(next_Q_values, axis=1)\n",
    "    target_Q_values = rewards + (1 - dones) * discount_rate * max_next_Q_values\n",
    "    mask = tf.one_hot(actions, n_outputs)\n",
    "    with tf.GradientTape() as tape:\n",
    "        #all_Q_values = model(states)\n",
    "        all_Q_values = model(pictorials)\n",
    "        Q_values = tf.reduce_sum(all_Q_values * mask, axis=1, keepdims=True)\n",
    "        loss = tf.reduce_mean(loss_fn(target_Q_values, Q_values))\n",
    "    grads = tape.gradient(loss, model.trainable_variables)\n",
    "    optimizer.apply_gradients(zip(grads, model.trainable_variables))"
   ]
  },
  {
   "cell_type": "code",
   "execution_count": null,
   "metadata": {},
   "outputs": [],
   "source": [
    "#env.seed(42)\n",
    "np.random.seed(42)\n",
    "#tf.random.set_seed(42)\n",
    "\n",
    "scores = [] \n",
    "best_score = 0"
   ]
  },
  {
   "cell_type": "code",
   "execution_count": null,
   "metadata": {},
   "outputs": [],
   "source": []
  },
  {
   "cell_type": "code",
   "execution_count": null,
   "metadata": {},
   "outputs": [],
   "source": []
  },
  {
   "cell_type": "code",
   "execution_count": null,
   "metadata": {},
   "outputs": [],
   "source": [
    "n_episodes = 10_000\n",
    "n_epsilon_decay = int(n_episodes*.7)\n",
    "n_max_steps = 100\n",
    "\n",
    "for episode in range(n_episodes):\n",
    "    eliminated = []\n",
    "    mapID = np.random.randint(0, 5)\n",
    "    posID_x = np.random.randint(constants.width) \n",
    "    posID_y = np.random.randint(constants.height)\n",
    "    request = \"map{},{},{},50,100\".format(mapID, posID_x, posID_y)\n",
    "    env.send_map_info(request)\n",
    "    #obs = env.reset()\n",
    "    env.reset()\n",
    "    obs = env.get_state()\n",
    "    sum_reward = 0\n",
    "    for step in range(n_max_steps):\n",
    "        epsilon = max(1 - episode / n_epsilon_decay, 0.01)\n",
    "        obs, reward, done = play_one_step(env, obs, epsilon)\n",
    "        sum_reward += reward\n",
    "        if done:\n",
    "            break\n",
    "    score = env.state.score*(n_max_steps - step)\n",
    "    #scores.append(score)\n",
    "    if score > best_score:\n",
    "        best_weights = model.get_weights()\n",
    "        best_score = reward\n",
    "    #print(\"\\rEpisode: {}, Steps: {}, eps: {:.3f}\".format(episode, step + 1, epsilon), end=\"\")\n",
    "    #print(\"Episode: {: 5d}, Gold: {: 4d}, Steps: {: 3d}, eps: {:.3f}. ({})\".format(episode, env.state.score, step + 1, epsilon, game_over_reason[env.state.status]), end=\"\\n\\n\")\n",
    "    #print(\"(Episode: {: 5d})   Gold: {: 4d}, Steps: {: 3d}, eps: {:.3f}. ({})\".format(episode, env.state.score, step + 1, epsilon, game_over_reason[env.state.status]))\n",
    "    print(\"(Episode {: 5d})   Gold: {: 4d}  sum_reward: {: 6d}   Steps: {: 3d}   eps: {:.3f}  ({})\".format(episode, env.state.score, sum_reward, step + 1, epsilon, game_over_reason[env.state.status]))\n",
    "\n",
    "    #if episode > 1000:\n",
    "    if episode > 500:\n",
    "        training_step(batch_size)\n",
    "\n",
    "model.set_weights(best_weights)"
   ]
  },
  {
   "cell_type": "code",
   "execution_count": null,
   "metadata": {},
   "outputs": [],
   "source": []
  },
  {
   "cell_type": "code",
   "execution_count": null,
   "metadata": {},
   "outputs": [],
   "source": []
  },
  {
   "cell_type": "code",
   "execution_count": null,
   "metadata": {},
   "outputs": [],
   "source": []
  },
  {
   "cell_type": "code",
   "execution_count": null,
   "metadata": {},
   "outputs": [],
   "source": []
  },
  {
   "cell_type": "code",
   "execution_count": null,
   "metadata": {},
   "outputs": [],
   "source": []
  },
  {
   "cell_type": "code",
   "execution_count": null,
   "metadata": {},
   "outputs": [],
   "source": []
  },
  {
   "cell_type": "code",
   "execution_count": null,
   "metadata": {},
   "outputs": [],
   "source": []
  },
  {
   "cell_type": "code",
   "execution_count": null,
   "metadata": {},
   "outputs": [],
   "source": []
  },
  {
   "cell_type": "code",
   "execution_count": null,
   "metadata": {},
   "outputs": [],
   "source": []
  },
  {
   "cell_type": "code",
   "execution_count": null,
   "metadata": {},
   "outputs": [],
   "source": [
    "n_episodes = 10_000\n",
    "n_epsilon_decay = int(n_episodes*.7)\n",
    "n_max_steps = 100\n",
    "\n",
    "for episode in range(n_episodes):\n",
    "    eliminated = []\n",
    "    mapID = np.random.randint(0, 5)\n",
    "    posID_x = np.random.randint(constants.width) \n",
    "    posID_y = np.random.randint(constants.height)\n",
    "    request = \"map{},{},{},50,100\".format(mapID, posID_x, posID_y)\n",
    "    env.send_map_info(request)\n",
    "    #obs = env.reset()\n",
    "    env.reset()\n",
    "    obs = env.get_state()\n",
    "    sum_reward = 0\n",
    "    for step in range(n_max_steps):\n",
    "        epsilon = max(1 - episode / n_epsilon_decay, 0.01)\n",
    "        obs, reward, done = play_one_step(env, obs, epsilon)\n",
    "        sum_reward += reward\n",
    "        if done:\n",
    "            break\n",
    "    score = env.state.score*(n_max_steps - step)\n",
    "    #scores.append(score)\n",
    "    if score > best_score:\n",
    "        best_weights = model.get_weights()\n",
    "        best_score = reward\n",
    "    #print(\"\\rEpisode: {}, Steps: {}, eps: {:.3f}\".format(episode, step + 1, epsilon), end=\"\")\n",
    "    #print(\"Episode: {: 5d}, Gold: {: 4d}, Steps: {: 3d}, eps: {:.3f}. ({})\".format(episode, env.state.score, step + 1, epsilon, game_over_reason[env.state.status]), end=\"\\n\\n\")\n",
    "    #print(\"(Episode: {: 5d})   Gold: {: 4d}, Steps: {: 3d}, eps: {:.3f}. ({})\".format(episode, env.state.score, step + 1, epsilon, game_over_reason[env.state.status]))\n",
    "    print(\"(Episode {: 5d})   Gold: {: 4d},  sum_reward: {: 6d}, Steps: {: 3d}, eps: {:.3f}. ({})\".format(episode, env.state.score, sum_reward, step + 1, epsilon, game_over_reason[env.state.status]))\n",
    "\n",
    "    if episode > 1000:\n",
    "        training_step(batch_size)\n",
    "\n",
    "model.set_weights(best_weights)"
   ]
  }
 ],
 "metadata": {
  "colab": {
   "collapsed_sections": [],
   "name": "Miner_Training_Colab_CodeSample.ipynb",
   "provenance": []
  },
  "kernelspec": {
   "display_name": "Python 3",
   "language": "python",
   "name": "python3"
  },
  "language_info": {
   "codemirror_mode": {
    "name": "ipython",
    "version": 3
   },
   "file_extension": ".py",
   "mimetype": "text/x-python",
   "name": "python",
   "nbconvert_exporter": "python",
   "pygments_lexer": "ipython3",
   "version": "3.6.9"
  }
 },
 "nbformat": 4,
 "nbformat_minor": 1
}
