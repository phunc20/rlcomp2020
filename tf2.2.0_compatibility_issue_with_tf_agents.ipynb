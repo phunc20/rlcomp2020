{
 "cells": [
  {
   "cell_type": "code",
   "execution_count": 4,
   "metadata": {},
   "outputs": [
    {
     "name": "stdout",
     "output_type": "stream",
     "text": [
      "Python 3.6.9\r\n"
     ]
    }
   ],
   "source": [
    "!python --version"
   ]
  },
  {
   "cell_type": "code",
   "execution_count": 5,
   "metadata": {},
   "outputs": [
    {
     "name": "stdout",
     "output_type": "stream",
     "text": [
      "tensorflow-probability 0.11.0\r\n"
     ]
    }
   ],
   "source": [
    "!pip list | grep proba"
   ]
  },
  {
   "cell_type": "code",
   "execution_count": 7,
   "metadata": {},
   "outputs": [
    {
     "name": "stdout",
     "output_type": "stream",
     "text": [
      "Collecting tensorflow-probability==0.10.0\n",
      "  Downloading tensorflow_probability-0.10.0-py2.py3-none-any.whl (3.5 MB)\n",
      "\u001b[K     |████████████████████████████████| 3.5 MB 869 kB/s eta 0:00:01     |█████████████████████████████   | 3.2 MB 869 kB/s eta 0:00:01\n",
      "\u001b[?25hRequirement already satisfied: six>=1.10.0 in /home/phunc20/.virtualenvs/tf2.2-py3.6/lib/python3.6/site-packages (from tensorflow-probability==0.10.0) (1.15.0)\n",
      "Requirement already satisfied: gast>=0.3.2 in /home/phunc20/.virtualenvs/tf2.2-py3.6/lib/python3.6/site-packages (from tensorflow-probability==0.10.0) (0.3.3)\n",
      "Requirement already satisfied: decorator in /home/phunc20/.virtualenvs/tf2.2-py3.6/lib/python3.6/site-packages (from tensorflow-probability==0.10.0) (4.4.2)\n",
      "Requirement already satisfied: numpy>=1.13.3 in /home/phunc20/.virtualenvs/tf2.2-py3.6/lib/python3.6/site-packages (from tensorflow-probability==0.10.0) (1.19.1)\n",
      "Requirement already satisfied: cloudpickle>=1.2.2 in /home/phunc20/.virtualenvs/tf2.2-py3.6/lib/python3.6/site-packages (from tensorflow-probability==0.10.0) (1.3.0)\n",
      "Installing collected packages: tensorflow-probability\n",
      "  Attempting uninstall: tensorflow-probability\n",
      "    Found existing installation: tensorflow-probability 0.11.0\n",
      "    Uninstalling tensorflow-probability-0.11.0:\n",
      "      Successfully uninstalled tensorflow-probability-0.11.0\n",
      "Successfully installed tensorflow-probability-0.10.0\n"
     ]
    }
   ],
   "source": [
    "!pip install tensorflow-probability==0.10.0\n",
    "from tf_agents.specs import array_spec "
   ]
  },
  {
   "cell_type": "code",
   "execution_count": 8,
   "metadata": {},
   "outputs": [],
   "source": []
  },
  {
   "cell_type": "code",
   "execution_count": 2,
   "metadata": {},
   "outputs": [
    {
     "name": "stdout",
     "output_type": "stream",
     "text": [
      "Requirement already satisfied: tensorflow==2.2.0 in /home/phunc20/.virtualenvs/tf2.2-py3.6/lib/python3.6/site-packages (2.2.0)\n",
      "Requirement already satisfied: tf-agents==0.5.0 in /home/phunc20/.virtualenvs/tf2.2-py3.6/lib/python3.6/site-packages (0.5.0)\n",
      "Requirement already satisfied: tensorflow-estimator<2.3.0,>=2.2.0 in /home/phunc20/.virtualenvs/tf2.2-py3.6/lib/python3.6/site-packages (from tensorflow==2.2.0) (2.2.0)\n",
      "Requirement already satisfied: gast==0.3.3 in /home/phunc20/.virtualenvs/tf2.2-py3.6/lib/python3.6/site-packages (from tensorflow==2.2.0) (0.3.3)\n",
      "Requirement already satisfied: numpy<2.0,>=1.16.0 in /home/phunc20/.virtualenvs/tf2.2-py3.6/lib/python3.6/site-packages (from tensorflow==2.2.0) (1.19.1)\n",
      "Requirement already satisfied: tensorboard<2.3.0,>=2.2.0 in /home/phunc20/.virtualenvs/tf2.2-py3.6/lib/python3.6/site-packages (from tensorflow==2.2.0) (2.2.2)\n",
      "Requirement already satisfied: grpcio>=1.8.6 in /home/phunc20/.virtualenvs/tf2.2-py3.6/lib/python3.6/site-packages (from tensorflow==2.2.0) (1.31.0)\n",
      "Requirement already satisfied: six>=1.12.0 in /home/phunc20/.virtualenvs/tf2.2-py3.6/lib/python3.6/site-packages (from tensorflow==2.2.0) (1.15.0)\n",
      "Requirement already satisfied: protobuf>=3.8.0 in /home/phunc20/.virtualenvs/tf2.2-py3.6/lib/python3.6/site-packages (from tensorflow==2.2.0) (3.13.0)\n",
      "Requirement already satisfied: absl-py>=0.7.0 in /home/phunc20/.virtualenvs/tf2.2-py3.6/lib/python3.6/site-packages (from tensorflow==2.2.0) (0.10.0)\n",
      "Requirement already satisfied: opt-einsum>=2.3.2 in /home/phunc20/.virtualenvs/tf2.2-py3.6/lib/python3.6/site-packages (from tensorflow==2.2.0) (3.3.0)\n",
      "Requirement already satisfied: wrapt>=1.11.1 in /home/phunc20/.virtualenvs/tf2.2-py3.6/lib/python3.6/site-packages (from tensorflow==2.2.0) (1.12.1)\n",
      "Requirement already satisfied: google-pasta>=0.1.8 in /home/phunc20/.virtualenvs/tf2.2-py3.6/lib/python3.6/site-packages (from tensorflow==2.2.0) (0.2.0)\n",
      "Requirement already satisfied: keras-preprocessing>=1.1.0 in /home/phunc20/.virtualenvs/tf2.2-py3.6/lib/python3.6/site-packages (from tensorflow==2.2.0) (1.1.2)\n",
      "Requirement already satisfied: wheel>=0.26; python_version >= \"3\" in /home/phunc20/.virtualenvs/tf2.2-py3.6/lib/python3.6/site-packages (from tensorflow==2.2.0) (0.35.1)\n",
      "Requirement already satisfied: scipy==1.4.1; python_version >= \"3\" in /home/phunc20/.virtualenvs/tf2.2-py3.6/lib/python3.6/site-packages (from tensorflow==2.2.0) (1.4.1)\n",
      "Requirement already satisfied: termcolor>=1.1.0 in /home/phunc20/.virtualenvs/tf2.2-py3.6/lib/python3.6/site-packages (from tensorflow==2.2.0) (1.1.0)\n",
      "Requirement already satisfied: h5py<2.11.0,>=2.10.0 in /home/phunc20/.virtualenvs/tf2.2-py3.6/lib/python3.6/site-packages (from tensorflow==2.2.0) (2.10.0)\n",
      "Requirement already satisfied: astunparse==1.6.3 in /home/phunc20/.virtualenvs/tf2.2-py3.6/lib/python3.6/site-packages (from tensorflow==2.2.0) (1.6.3)\n",
      "Requirement already satisfied: gin-config==0.1.3 in /home/phunc20/.virtualenvs/tf2.2-py3.6/lib/python3.6/site-packages (from tf-agents==0.5.0) (0.1.3)\n",
      "Requirement already satisfied: tensorflow-probability>=0.9.0 in /home/phunc20/.virtualenvs/tf2.2-py3.6/lib/python3.6/site-packages (from tf-agents==0.5.0) (0.11.0)\n",
      "Requirement already satisfied: tensorboard-plugin-wit>=1.6.0 in /home/phunc20/.virtualenvs/tf2.2-py3.6/lib/python3.6/site-packages (from tensorboard<2.3.0,>=2.2.0->tensorflow==2.2.0) (1.7.0)\n",
      "Requirement already satisfied: markdown>=2.6.8 in /home/phunc20/.virtualenvs/tf2.2-py3.6/lib/python3.6/site-packages (from tensorboard<2.3.0,>=2.2.0->tensorflow==2.2.0) (3.2.2)\n",
      "Requirement already satisfied: google-auth<2,>=1.6.3 in /home/phunc20/.virtualenvs/tf2.2-py3.6/lib/python3.6/site-packages (from tensorboard<2.3.0,>=2.2.0->tensorflow==2.2.0) (1.21.0)\n",
      "Requirement already satisfied: werkzeug>=0.11.15 in /home/phunc20/.virtualenvs/tf2.2-py3.6/lib/python3.6/site-packages (from tensorboard<2.3.0,>=2.2.0->tensorflow==2.2.0) (1.0.1)\n",
      "Requirement already satisfied: requests<3,>=2.21.0 in /home/phunc20/.virtualenvs/tf2.2-py3.6/lib/python3.6/site-packages (from tensorboard<2.3.0,>=2.2.0->tensorflow==2.2.0) (2.24.0)\n",
      "Requirement already satisfied: setuptools>=41.0.0 in /home/phunc20/.virtualenvs/tf2.2-py3.6/lib/python3.6/site-packages (from tensorboard<2.3.0,>=2.2.0->tensorflow==2.2.0) (50.0.0)\n",
      "Requirement already satisfied: google-auth-oauthlib<0.5,>=0.4.1 in /home/phunc20/.virtualenvs/tf2.2-py3.6/lib/python3.6/site-packages (from tensorboard<2.3.0,>=2.2.0->tensorflow==2.2.0) (0.4.1)\n",
      "Requirement already satisfied: cloudpickle==1.3 in /home/phunc20/.virtualenvs/tf2.2-py3.6/lib/python3.6/site-packages (from tensorflow-probability>=0.9.0->tf-agents==0.5.0) (1.3.0)\n",
      "Requirement already satisfied: dm-tree in /home/phunc20/.virtualenvs/tf2.2-py3.6/lib/python3.6/site-packages (from tensorflow-probability>=0.9.0->tf-agents==0.5.0) (0.1.5)\n",
      "Requirement already satisfied: decorator in /home/phunc20/.virtualenvs/tf2.2-py3.6/lib/python3.6/site-packages (from tensorflow-probability>=0.9.0->tf-agents==0.5.0) (4.4.2)\n",
      "Requirement already satisfied: importlib-metadata; python_version < \"3.8\" in /home/phunc20/.virtualenvs/tf2.2-py3.6/lib/python3.6/site-packages (from markdown>=2.6.8->tensorboard<2.3.0,>=2.2.0->tensorflow==2.2.0) (1.7.0)\n",
      "Requirement already satisfied: cachetools<5.0,>=2.0.0 in /home/phunc20/.virtualenvs/tf2.2-py3.6/lib/python3.6/site-packages (from google-auth<2,>=1.6.3->tensorboard<2.3.0,>=2.2.0->tensorflow==2.2.0) (4.1.1)\n",
      "Requirement already satisfied: rsa<5,>=3.1.4; python_version >= \"3.5\" in /home/phunc20/.virtualenvs/tf2.2-py3.6/lib/python3.6/site-packages (from google-auth<2,>=1.6.3->tensorboard<2.3.0,>=2.2.0->tensorflow==2.2.0) (4.6)\n",
      "Requirement already satisfied: pyasn1-modules>=0.2.1 in /home/phunc20/.virtualenvs/tf2.2-py3.6/lib/python3.6/site-packages (from google-auth<2,>=1.6.3->tensorboard<2.3.0,>=2.2.0->tensorflow==2.2.0) (0.2.8)\n",
      "Requirement already satisfied: certifi>=2017.4.17 in /home/phunc20/.virtualenvs/tf2.2-py3.6/lib/python3.6/site-packages (from requests<3,>=2.21.0->tensorboard<2.3.0,>=2.2.0->tensorflow==2.2.0) (2020.6.20)\n",
      "Requirement already satisfied: urllib3!=1.25.0,!=1.25.1,<1.26,>=1.21.1 in /home/phunc20/.virtualenvs/tf2.2-py3.6/lib/python3.6/site-packages (from requests<3,>=2.21.0->tensorboard<2.3.0,>=2.2.0->tensorflow==2.2.0) (1.25.10)\n",
      "Requirement already satisfied: chardet<4,>=3.0.2 in /home/phunc20/.virtualenvs/tf2.2-py3.6/lib/python3.6/site-packages (from requests<3,>=2.21.0->tensorboard<2.3.0,>=2.2.0->tensorflow==2.2.0) (3.0.4)\n",
      "Requirement already satisfied: idna<3,>=2.5 in /home/phunc20/.virtualenvs/tf2.2-py3.6/lib/python3.6/site-packages (from requests<3,>=2.21.0->tensorboard<2.3.0,>=2.2.0->tensorflow==2.2.0) (2.10)\n",
      "Requirement already satisfied: requests-oauthlib>=0.7.0 in /home/phunc20/.virtualenvs/tf2.2-py3.6/lib/python3.6/site-packages (from google-auth-oauthlib<0.5,>=0.4.1->tensorboard<2.3.0,>=2.2.0->tensorflow==2.2.0) (1.3.0)\n",
      "Requirement already satisfied: zipp>=0.5 in /home/phunc20/.virtualenvs/tf2.2-py3.6/lib/python3.6/site-packages (from importlib-metadata; python_version < \"3.8\"->markdown>=2.6.8->tensorboard<2.3.0,>=2.2.0->tensorflow==2.2.0) (3.1.0)\n",
      "Requirement already satisfied: pyasn1>=0.1.3 in /home/phunc20/.virtualenvs/tf2.2-py3.6/lib/python3.6/site-packages (from rsa<5,>=3.1.4; python_version >= \"3.5\"->google-auth<2,>=1.6.3->tensorboard<2.3.0,>=2.2.0->tensorflow==2.2.0) (0.4.8)\n",
      "Requirement already satisfied: oauthlib>=3.0.0 in /home/phunc20/.virtualenvs/tf2.2-py3.6/lib/python3.6/site-packages (from requests-oauthlib>=0.7.0->google-auth-oauthlib<0.5,>=0.4.1->tensorboard<2.3.0,>=2.2.0->tensorflow==2.2.0) (3.1.0)\n"
     ]
    },
    {
     "ename": "ImportError",
     "evalue": "This version of TensorFlow Probability requires TensorFlow version >= 2.3; Detected an installation of version 2.2.0. Please upgrade TensorFlow to proceed.",
     "output_type": "error",
     "traceback": [
      "\u001b[0;31m---------------------------------------------------------------------------\u001b[0m",
      "\u001b[0;31mImportError\u001b[0m                               Traceback (most recent call last)",
      "\u001b[0;32m<ipython-input-2-861626bf75cd>\u001b[0m in \u001b[0;36m<module>\u001b[0;34m\u001b[0m\n\u001b[1;32m      1\u001b[0m \u001b[0mget_ipython\u001b[0m\u001b[0;34m(\u001b[0m\u001b[0;34m)\u001b[0m\u001b[0;34m.\u001b[0m\u001b[0msystem\u001b[0m\u001b[0;34m(\u001b[0m\u001b[0;34m'pip install tensorflow==2.2.0 tf-agents==0.5.0'\u001b[0m\u001b[0;34m)\u001b[0m\u001b[0;34m\u001b[0m\u001b[0;34m\u001b[0m\u001b[0m\n\u001b[0;32m----> 2\u001b[0;31m \u001b[0;32mfrom\u001b[0m \u001b[0mtf_agents\u001b[0m\u001b[0;34m.\u001b[0m\u001b[0mspecs\u001b[0m \u001b[0;32mimport\u001b[0m \u001b[0marray_spec\u001b[0m\u001b[0;34m\u001b[0m\u001b[0;34m\u001b[0m\u001b[0m\n\u001b[0m",
      "\u001b[0;32m~/.virtualenvs/tf2.2-py3.6/lib/python3.6/site-packages/tf_agents/specs/__init__.py\u001b[0m in \u001b[0;36m<module>\u001b[0;34m\u001b[0m\n\u001b[1;32m     18\u001b[0m \u001b[0;32mfrom\u001b[0m \u001b[0mtf_agents\u001b[0m\u001b[0;34m.\u001b[0m\u001b[0mspecs\u001b[0m\u001b[0;34m.\u001b[0m\u001b[0marray_spec\u001b[0m \u001b[0;32mimport\u001b[0m \u001b[0mArraySpec\u001b[0m\u001b[0;34m\u001b[0m\u001b[0;34m\u001b[0m\u001b[0m\n\u001b[1;32m     19\u001b[0m \u001b[0;32mfrom\u001b[0m \u001b[0mtf_agents\u001b[0m\u001b[0;34m.\u001b[0m\u001b[0mspecs\u001b[0m\u001b[0;34m.\u001b[0m\u001b[0marray_spec\u001b[0m \u001b[0;32mimport\u001b[0m \u001b[0mBoundedArraySpec\u001b[0m\u001b[0;34m\u001b[0m\u001b[0;34m\u001b[0m\u001b[0m\n\u001b[0;32m---> 20\u001b[0;31m \u001b[0;32mfrom\u001b[0m \u001b[0mtf_agents\u001b[0m\u001b[0;34m.\u001b[0m\u001b[0mspecs\u001b[0m\u001b[0;34m.\u001b[0m\u001b[0mdistribution_spec\u001b[0m \u001b[0;32mimport\u001b[0m \u001b[0mDistributionSpec\u001b[0m\u001b[0;34m\u001b[0m\u001b[0;34m\u001b[0m\u001b[0m\n\u001b[0m\u001b[1;32m     21\u001b[0m \u001b[0;32mfrom\u001b[0m \u001b[0mtf_agents\u001b[0m\u001b[0;34m.\u001b[0m\u001b[0mspecs\u001b[0m\u001b[0;34m.\u001b[0m\u001b[0mtensor_spec\u001b[0m \u001b[0;32mimport\u001b[0m \u001b[0mBoundedTensorSpec\u001b[0m\u001b[0;34m\u001b[0m\u001b[0;34m\u001b[0m\u001b[0m\n\u001b[1;32m     22\u001b[0m \u001b[0;32mfrom\u001b[0m \u001b[0mtf_agents\u001b[0m\u001b[0;34m.\u001b[0m\u001b[0mspecs\u001b[0m\u001b[0;34m.\u001b[0m\u001b[0mtensor_spec\u001b[0m \u001b[0;32mimport\u001b[0m \u001b[0mTensorSpec\u001b[0m\u001b[0;34m\u001b[0m\u001b[0;34m\u001b[0m\u001b[0m\n",
      "\u001b[0;32m~/.virtualenvs/tf2.2-py3.6/lib/python3.6/site-packages/tf_agents/specs/distribution_spec.py\u001b[0m in \u001b[0;36m<module>\u001b[0;34m\u001b[0m\n\u001b[1;32m     20\u001b[0m \u001b[0;32mfrom\u001b[0m \u001b[0m__future__\u001b[0m \u001b[0;32mimport\u001b[0m \u001b[0mprint_function\u001b[0m\u001b[0;34m\u001b[0m\u001b[0;34m\u001b[0m\u001b[0m\n\u001b[1;32m     21\u001b[0m \u001b[0;34m\u001b[0m\u001b[0m\n\u001b[0;32m---> 22\u001b[0;31m \u001b[0;32mimport\u001b[0m \u001b[0mtensorflow_probability\u001b[0m \u001b[0;32mas\u001b[0m \u001b[0mtfp\u001b[0m\u001b[0;34m\u001b[0m\u001b[0;34m\u001b[0m\u001b[0m\n\u001b[0m\u001b[1;32m     23\u001b[0m \u001b[0;34m\u001b[0m\u001b[0m\n\u001b[1;32m     24\u001b[0m \u001b[0;32mfrom\u001b[0m \u001b[0mtensorflow\u001b[0m\u001b[0;34m.\u001b[0m\u001b[0mpython\u001b[0m\u001b[0;34m.\u001b[0m\u001b[0mutil\u001b[0m \u001b[0;32mimport\u001b[0m \u001b[0mnest\u001b[0m  \u001b[0;31m# pylint:disable=g-direct-tensorflow-import  # TF internal\u001b[0m\u001b[0;34m\u001b[0m\u001b[0;34m\u001b[0m\u001b[0m\n",
      "\u001b[0;32m~/.virtualenvs/tf2.2-py3.6/lib/python3.6/site-packages/tensorflow_probability/__init__.py\u001b[0m in \u001b[0;36m<module>\u001b[0;34m\u001b[0m\n\u001b[1;32m     67\u001b[0m \u001b[0;34m\u001b[0m\u001b[0m\n\u001b[1;32m     68\u001b[0m \u001b[0;34m\u001b[0m\u001b[0m\n\u001b[0;32m---> 69\u001b[0;31m \u001b[0m_ensure_tf_install\u001b[0m\u001b[0;34m(\u001b[0m\u001b[0;34m)\u001b[0m\u001b[0;34m\u001b[0m\u001b[0;34m\u001b[0m\u001b[0m\n\u001b[0m\u001b[1;32m     70\u001b[0m \u001b[0;34m\u001b[0m\u001b[0m\n\u001b[1;32m     71\u001b[0m \u001b[0;31m# Cleanup symbols to avoid polluting namespace.\u001b[0m\u001b[0;34m\u001b[0m\u001b[0;34m\u001b[0m\u001b[0;34m\u001b[0m\u001b[0m\n",
      "\u001b[0;32m~/.virtualenvs/tf2.2-py3.6/lib/python3.6/site-packages/tensorflow_probability/__init__.py\u001b[0m in \u001b[0;36m_ensure_tf_install\u001b[0;34m()\u001b[0m\n\u001b[1;32m     64\u001b[0m         \"Please upgrade TensorFlow to proceed.\".format(\n\u001b[1;32m     65\u001b[0m             \u001b[0mrequired\u001b[0m\u001b[0;34m=\u001b[0m\u001b[0mrequired_tensorflow_version\u001b[0m\u001b[0;34m,\u001b[0m\u001b[0;34m\u001b[0m\u001b[0;34m\u001b[0m\u001b[0m\n\u001b[0;32m---> 66\u001b[0;31m             present=tf.__version__))\n\u001b[0m\u001b[1;32m     67\u001b[0m \u001b[0;34m\u001b[0m\u001b[0m\n\u001b[1;32m     68\u001b[0m \u001b[0;34m\u001b[0m\u001b[0m\n",
      "\u001b[0;31mImportError\u001b[0m: This version of TensorFlow Probability requires TensorFlow version >= 2.3; Detected an installation of version 2.2.0. Please upgrade TensorFlow to proceed."
     ]
    }
   ],
   "source": [
    "!pip install tensorflow==2.2.0 tf-agents==0.5.0\n",
    "from tf_agents.specs import array_spec "
   ]
  },
  {
   "cell_type": "code",
   "execution_count": 3,
   "metadata": {},
   "outputs": [
    {
     "name": "stdout",
     "output_type": "stream",
     "text": [
      "Requirement already satisfied: tensorflow==2.2.0 in /home/phunc20/.virtualenvs/tf2.2-py3.6/lib/python3.6/site-packages (2.2.0)\n",
      "Collecting tf-agents==0.3.0\n",
      "  Using cached tf_agents-0.3.0-py2.py3-none-any.whl (839 kB)\n",
      "Requirement already satisfied: tensorflow-estimator<2.3.0,>=2.2.0 in /home/phunc20/.virtualenvs/tf2.2-py3.6/lib/python3.6/site-packages (from tensorflow==2.2.0) (2.2.0)\n",
      "Requirement already satisfied: tensorboard<2.3.0,>=2.2.0 in /home/phunc20/.virtualenvs/tf2.2-py3.6/lib/python3.6/site-packages (from tensorflow==2.2.0) (2.2.2)\n",
      "Requirement already satisfied: google-pasta>=0.1.8 in /home/phunc20/.virtualenvs/tf2.2-py3.6/lib/python3.6/site-packages (from tensorflow==2.2.0) (0.2.0)\n",
      "Requirement already satisfied: wrapt>=1.11.1 in /home/phunc20/.virtualenvs/tf2.2-py3.6/lib/python3.6/site-packages (from tensorflow==2.2.0) (1.12.1)\n",
      "Requirement already satisfied: termcolor>=1.1.0 in /home/phunc20/.virtualenvs/tf2.2-py3.6/lib/python3.6/site-packages (from tensorflow==2.2.0) (1.1.0)\n",
      "Requirement already satisfied: grpcio>=1.8.6 in /home/phunc20/.virtualenvs/tf2.2-py3.6/lib/python3.6/site-packages (from tensorflow==2.2.0) (1.31.0)\n",
      "Requirement already satisfied: keras-preprocessing>=1.1.0 in /home/phunc20/.virtualenvs/tf2.2-py3.6/lib/python3.6/site-packages (from tensorflow==2.2.0) (1.1.2)\n",
      "Requirement already satisfied: absl-py>=0.7.0 in /home/phunc20/.virtualenvs/tf2.2-py3.6/lib/python3.6/site-packages (from tensorflow==2.2.0) (0.10.0)\n",
      "Requirement already satisfied: protobuf>=3.8.0 in /home/phunc20/.virtualenvs/tf2.2-py3.6/lib/python3.6/site-packages (from tensorflow==2.2.0) (3.13.0)\n",
      "Requirement already satisfied: opt-einsum>=2.3.2 in /home/phunc20/.virtualenvs/tf2.2-py3.6/lib/python3.6/site-packages (from tensorflow==2.2.0) (3.3.0)\n",
      "Requirement already satisfied: gast==0.3.3 in /home/phunc20/.virtualenvs/tf2.2-py3.6/lib/python3.6/site-packages (from tensorflow==2.2.0) (0.3.3)\n",
      "Requirement already satisfied: six>=1.12.0 in /home/phunc20/.virtualenvs/tf2.2-py3.6/lib/python3.6/site-packages (from tensorflow==2.2.0) (1.15.0)\n",
      "Requirement already satisfied: wheel>=0.26; python_version >= \"3\" in /home/phunc20/.virtualenvs/tf2.2-py3.6/lib/python3.6/site-packages (from tensorflow==2.2.0) (0.35.1)\n",
      "Requirement already satisfied: astunparse==1.6.3 in /home/phunc20/.virtualenvs/tf2.2-py3.6/lib/python3.6/site-packages (from tensorflow==2.2.0) (1.6.3)\n",
      "Requirement already satisfied: scipy==1.4.1; python_version >= \"3\" in /home/phunc20/.virtualenvs/tf2.2-py3.6/lib/python3.6/site-packages (from tensorflow==2.2.0) (1.4.1)\n",
      "Requirement already satisfied: numpy<2.0,>=1.16.0 in /home/phunc20/.virtualenvs/tf2.2-py3.6/lib/python3.6/site-packages (from tensorflow==2.2.0) (1.19.1)\n",
      "Requirement already satisfied: h5py<2.11.0,>=2.10.0 in /home/phunc20/.virtualenvs/tf2.2-py3.6/lib/python3.6/site-packages (from tensorflow==2.2.0) (2.10.0)\n",
      "Requirement already satisfied: gin-config==0.1.3 in /home/phunc20/.virtualenvs/tf2.2-py3.6/lib/python3.6/site-packages (from tf-agents==0.3.0) (0.1.3)\n",
      "Requirement already satisfied: tensorflow-probability>=0.6.0 in /home/phunc20/.virtualenvs/tf2.2-py3.6/lib/python3.6/site-packages (from tf-agents==0.3.0) (0.11.0)\n",
      "Requirement already satisfied: markdown>=2.6.8 in /home/phunc20/.virtualenvs/tf2.2-py3.6/lib/python3.6/site-packages (from tensorboard<2.3.0,>=2.2.0->tensorflow==2.2.0) (3.2.2)\n",
      "Requirement already satisfied: google-auth<2,>=1.6.3 in /home/phunc20/.virtualenvs/tf2.2-py3.6/lib/python3.6/site-packages (from tensorboard<2.3.0,>=2.2.0->tensorflow==2.2.0) (1.21.0)\n",
      "Requirement already satisfied: tensorboard-plugin-wit>=1.6.0 in /home/phunc20/.virtualenvs/tf2.2-py3.6/lib/python3.6/site-packages (from tensorboard<2.3.0,>=2.2.0->tensorflow==2.2.0) (1.7.0)\n",
      "Requirement already satisfied: requests<3,>=2.21.0 in /home/phunc20/.virtualenvs/tf2.2-py3.6/lib/python3.6/site-packages (from tensorboard<2.3.0,>=2.2.0->tensorflow==2.2.0) (2.24.0)\n",
      "Requirement already satisfied: setuptools>=41.0.0 in /home/phunc20/.virtualenvs/tf2.2-py3.6/lib/python3.6/site-packages (from tensorboard<2.3.0,>=2.2.0->tensorflow==2.2.0) (50.0.0)\n",
      "Requirement already satisfied: google-auth-oauthlib<0.5,>=0.4.1 in /home/phunc20/.virtualenvs/tf2.2-py3.6/lib/python3.6/site-packages (from tensorboard<2.3.0,>=2.2.0->tensorflow==2.2.0) (0.4.1)\n",
      "Requirement already satisfied: werkzeug>=0.11.15 in /home/phunc20/.virtualenvs/tf2.2-py3.6/lib/python3.6/site-packages (from tensorboard<2.3.0,>=2.2.0->tensorflow==2.2.0) (1.0.1)\n",
      "Requirement already satisfied: decorator in /home/phunc20/.virtualenvs/tf2.2-py3.6/lib/python3.6/site-packages (from tensorflow-probability>=0.6.0->tf-agents==0.3.0) (4.4.2)\n",
      "Requirement already satisfied: dm-tree in /home/phunc20/.virtualenvs/tf2.2-py3.6/lib/python3.6/site-packages (from tensorflow-probability>=0.6.0->tf-agents==0.3.0) (0.1.5)\n",
      "Requirement already satisfied: cloudpickle==1.3 in /home/phunc20/.virtualenvs/tf2.2-py3.6/lib/python3.6/site-packages (from tensorflow-probability>=0.6.0->tf-agents==0.3.0) (1.3.0)\n",
      "Requirement already satisfied: importlib-metadata; python_version < \"3.8\" in /home/phunc20/.virtualenvs/tf2.2-py3.6/lib/python3.6/site-packages (from markdown>=2.6.8->tensorboard<2.3.0,>=2.2.0->tensorflow==2.2.0) (1.7.0)\n",
      "Requirement already satisfied: pyasn1-modules>=0.2.1 in /home/phunc20/.virtualenvs/tf2.2-py3.6/lib/python3.6/site-packages (from google-auth<2,>=1.6.3->tensorboard<2.3.0,>=2.2.0->tensorflow==2.2.0) (0.2.8)\n",
      "Requirement already satisfied: rsa<5,>=3.1.4; python_version >= \"3.5\" in /home/phunc20/.virtualenvs/tf2.2-py3.6/lib/python3.6/site-packages (from google-auth<2,>=1.6.3->tensorboard<2.3.0,>=2.2.0->tensorflow==2.2.0) (4.6)\n",
      "Requirement already satisfied: cachetools<5.0,>=2.0.0 in /home/phunc20/.virtualenvs/tf2.2-py3.6/lib/python3.6/site-packages (from google-auth<2,>=1.6.3->tensorboard<2.3.0,>=2.2.0->tensorflow==2.2.0) (4.1.1)\n",
      "Requirement already satisfied: idna<3,>=2.5 in /home/phunc20/.virtualenvs/tf2.2-py3.6/lib/python3.6/site-packages (from requests<3,>=2.21.0->tensorboard<2.3.0,>=2.2.0->tensorflow==2.2.0) (2.10)\n",
      "Requirement already satisfied: certifi>=2017.4.17 in /home/phunc20/.virtualenvs/tf2.2-py3.6/lib/python3.6/site-packages (from requests<3,>=2.21.0->tensorboard<2.3.0,>=2.2.0->tensorflow==2.2.0) (2020.6.20)\n",
      "Requirement already satisfied: chardet<4,>=3.0.2 in /home/phunc20/.virtualenvs/tf2.2-py3.6/lib/python3.6/site-packages (from requests<3,>=2.21.0->tensorboard<2.3.0,>=2.2.0->tensorflow==2.2.0) (3.0.4)\n",
      "Requirement already satisfied: urllib3!=1.25.0,!=1.25.1,<1.26,>=1.21.1 in /home/phunc20/.virtualenvs/tf2.2-py3.6/lib/python3.6/site-packages (from requests<3,>=2.21.0->tensorboard<2.3.0,>=2.2.0->tensorflow==2.2.0) (1.25.10)\n",
      "Requirement already satisfied: requests-oauthlib>=0.7.0 in /home/phunc20/.virtualenvs/tf2.2-py3.6/lib/python3.6/site-packages (from google-auth-oauthlib<0.5,>=0.4.1->tensorboard<2.3.0,>=2.2.0->tensorflow==2.2.0) (1.3.0)\n",
      "Requirement already satisfied: zipp>=0.5 in /home/phunc20/.virtualenvs/tf2.2-py3.6/lib/python3.6/site-packages (from importlib-metadata; python_version < \"3.8\"->markdown>=2.6.8->tensorboard<2.3.0,>=2.2.0->tensorflow==2.2.0) (3.1.0)\n",
      "Requirement already satisfied: pyasn1<0.5.0,>=0.4.6 in /home/phunc20/.virtualenvs/tf2.2-py3.6/lib/python3.6/site-packages (from pyasn1-modules>=0.2.1->google-auth<2,>=1.6.3->tensorboard<2.3.0,>=2.2.0->tensorflow==2.2.0) (0.4.8)\n",
      "Requirement already satisfied: oauthlib>=3.0.0 in /home/phunc20/.virtualenvs/tf2.2-py3.6/lib/python3.6/site-packages (from requests-oauthlib>=0.7.0->google-auth-oauthlib<0.5,>=0.4.1->tensorboard<2.3.0,>=2.2.0->tensorflow==2.2.0) (3.1.0)\n",
      "Installing collected packages: tf-agents\n",
      "  Attempting uninstall: tf-agents\n",
      "    Found existing installation: tf-agents 0.5.0\n",
      "    Uninstalling tf-agents-0.5.0:\n",
      "      Successfully uninstalled tf-agents-0.5.0\n",
      "Successfully installed tf-agents-0.3.0\n"
     ]
    },
    {
     "ename": "ImportError",
     "evalue": "This version of TensorFlow Probability requires TensorFlow version >= 2.3; Detected an installation of version 2.2.0. Please upgrade TensorFlow to proceed.",
     "output_type": "error",
     "traceback": [
      "\u001b[0;31m---------------------------------------------------------------------------\u001b[0m",
      "\u001b[0;31mImportError\u001b[0m                               Traceback (most recent call last)",
      "\u001b[0;32m<ipython-input-3-9f1a6d6bc753>\u001b[0m in \u001b[0;36m<module>\u001b[0;34m\u001b[0m\n\u001b[1;32m      1\u001b[0m \u001b[0mget_ipython\u001b[0m\u001b[0;34m(\u001b[0m\u001b[0;34m)\u001b[0m\u001b[0;34m.\u001b[0m\u001b[0msystem\u001b[0m\u001b[0;34m(\u001b[0m\u001b[0;34m'pip install tensorflow==2.2.0 tf-agents==0.3.0'\u001b[0m\u001b[0;34m)\u001b[0m\u001b[0;34m\u001b[0m\u001b[0;34m\u001b[0m\u001b[0m\n\u001b[0;32m----> 2\u001b[0;31m \u001b[0;32mfrom\u001b[0m \u001b[0mtf_agents\u001b[0m\u001b[0;34m.\u001b[0m\u001b[0mspecs\u001b[0m \u001b[0;32mimport\u001b[0m \u001b[0marray_spec\u001b[0m\u001b[0;34m\u001b[0m\u001b[0;34m\u001b[0m\u001b[0m\n\u001b[0m",
      "\u001b[0;32m~/.virtualenvs/tf2.2-py3.6/lib/python3.6/site-packages/tf_agents/specs/__init__.py\u001b[0m in \u001b[0;36m<module>\u001b[0;34m\u001b[0m\n\u001b[1;32m     18\u001b[0m \u001b[0;32mfrom\u001b[0m \u001b[0mtf_agents\u001b[0m\u001b[0;34m.\u001b[0m\u001b[0mspecs\u001b[0m\u001b[0;34m.\u001b[0m\u001b[0marray_spec\u001b[0m \u001b[0;32mimport\u001b[0m \u001b[0mArraySpec\u001b[0m\u001b[0;34m\u001b[0m\u001b[0;34m\u001b[0m\u001b[0m\n\u001b[1;32m     19\u001b[0m \u001b[0;32mfrom\u001b[0m \u001b[0mtf_agents\u001b[0m\u001b[0;34m.\u001b[0m\u001b[0mspecs\u001b[0m\u001b[0;34m.\u001b[0m\u001b[0marray_spec\u001b[0m \u001b[0;32mimport\u001b[0m \u001b[0mBoundedArraySpec\u001b[0m\u001b[0;34m\u001b[0m\u001b[0;34m\u001b[0m\u001b[0m\n\u001b[0;32m---> 20\u001b[0;31m \u001b[0;32mfrom\u001b[0m \u001b[0mtf_agents\u001b[0m\u001b[0;34m.\u001b[0m\u001b[0mspecs\u001b[0m\u001b[0;34m.\u001b[0m\u001b[0mdistribution_spec\u001b[0m \u001b[0;32mimport\u001b[0m \u001b[0mDistributionSpec\u001b[0m\u001b[0;34m\u001b[0m\u001b[0;34m\u001b[0m\u001b[0m\n\u001b[0m\u001b[1;32m     21\u001b[0m \u001b[0;32mfrom\u001b[0m \u001b[0mtf_agents\u001b[0m\u001b[0;34m.\u001b[0m\u001b[0mspecs\u001b[0m\u001b[0;34m.\u001b[0m\u001b[0mtensor_spec\u001b[0m \u001b[0;32mimport\u001b[0m \u001b[0mBoundedTensorSpec\u001b[0m\u001b[0;34m\u001b[0m\u001b[0;34m\u001b[0m\u001b[0m\n\u001b[1;32m     22\u001b[0m \u001b[0;32mfrom\u001b[0m \u001b[0mtf_agents\u001b[0m\u001b[0;34m.\u001b[0m\u001b[0mspecs\u001b[0m\u001b[0;34m.\u001b[0m\u001b[0mtensor_spec\u001b[0m \u001b[0;32mimport\u001b[0m \u001b[0mTensorSpec\u001b[0m\u001b[0;34m\u001b[0m\u001b[0;34m\u001b[0m\u001b[0m\n",
      "\u001b[0;32m~/.virtualenvs/tf2.2-py3.6/lib/python3.6/site-packages/tf_agents/specs/distribution_spec.py\u001b[0m in \u001b[0;36m<module>\u001b[0;34m\u001b[0m\n\u001b[1;32m     20\u001b[0m \u001b[0;32mfrom\u001b[0m \u001b[0m__future__\u001b[0m \u001b[0;32mimport\u001b[0m \u001b[0mprint_function\u001b[0m\u001b[0;34m\u001b[0m\u001b[0;34m\u001b[0m\u001b[0m\n\u001b[1;32m     21\u001b[0m \u001b[0;34m\u001b[0m\u001b[0m\n\u001b[0;32m---> 22\u001b[0;31m \u001b[0;32mimport\u001b[0m \u001b[0mtensorflow_probability\u001b[0m \u001b[0;32mas\u001b[0m \u001b[0mtfp\u001b[0m\u001b[0;34m\u001b[0m\u001b[0;34m\u001b[0m\u001b[0m\n\u001b[0m\u001b[1;32m     23\u001b[0m \u001b[0;34m\u001b[0m\u001b[0m\n\u001b[1;32m     24\u001b[0m \u001b[0;32mfrom\u001b[0m \u001b[0mtensorflow\u001b[0m\u001b[0;34m.\u001b[0m\u001b[0mpython\u001b[0m\u001b[0;34m.\u001b[0m\u001b[0mutil\u001b[0m \u001b[0;32mimport\u001b[0m \u001b[0mnest\u001b[0m  \u001b[0;31m# pylint:disable=g-direct-tensorflow-import  # TF internal\u001b[0m\u001b[0;34m\u001b[0m\u001b[0;34m\u001b[0m\u001b[0m\n",
      "\u001b[0;32m~/.virtualenvs/tf2.2-py3.6/lib/python3.6/site-packages/tensorflow_probability/__init__.py\u001b[0m in \u001b[0;36m<module>\u001b[0;34m\u001b[0m\n\u001b[1;32m     67\u001b[0m \u001b[0;34m\u001b[0m\u001b[0m\n\u001b[1;32m     68\u001b[0m \u001b[0;34m\u001b[0m\u001b[0m\n\u001b[0;32m---> 69\u001b[0;31m \u001b[0m_ensure_tf_install\u001b[0m\u001b[0;34m(\u001b[0m\u001b[0;34m)\u001b[0m\u001b[0;34m\u001b[0m\u001b[0;34m\u001b[0m\u001b[0m\n\u001b[0m\u001b[1;32m     70\u001b[0m \u001b[0;34m\u001b[0m\u001b[0m\n\u001b[1;32m     71\u001b[0m \u001b[0;31m# Cleanup symbols to avoid polluting namespace.\u001b[0m\u001b[0;34m\u001b[0m\u001b[0;34m\u001b[0m\u001b[0;34m\u001b[0m\u001b[0m\n",
      "\u001b[0;32m~/.virtualenvs/tf2.2-py3.6/lib/python3.6/site-packages/tensorflow_probability/__init__.py\u001b[0m in \u001b[0;36m_ensure_tf_install\u001b[0;34m()\u001b[0m\n\u001b[1;32m     64\u001b[0m         \"Please upgrade TensorFlow to proceed.\".format(\n\u001b[1;32m     65\u001b[0m             \u001b[0mrequired\u001b[0m\u001b[0;34m=\u001b[0m\u001b[0mrequired_tensorflow_version\u001b[0m\u001b[0;34m,\u001b[0m\u001b[0;34m\u001b[0m\u001b[0;34m\u001b[0m\u001b[0m\n\u001b[0;32m---> 66\u001b[0;31m             present=tf.__version__))\n\u001b[0m\u001b[1;32m     67\u001b[0m \u001b[0;34m\u001b[0m\u001b[0m\n\u001b[1;32m     68\u001b[0m \u001b[0;34m\u001b[0m\u001b[0m\n",
      "\u001b[0;31mImportError\u001b[0m: This version of TensorFlow Probability requires TensorFlow version >= 2.3; Detected an installation of version 2.2.0. Please upgrade TensorFlow to proceed."
     ]
    }
   ],
   "source": [
    "!pip install tensorflow==2.2.0 tf-agents==0.3.0\n",
    "from tf_agents.specs import array_spec "
   ]
  },
  {
   "cell_type": "code",
   "execution_count": null,
   "metadata": {},
   "outputs": [],
   "source": []
  }
 ],
 "metadata": {
  "kernelspec": {
   "display_name": "Python 3",
   "language": "python",
   "name": "python3"
  },
  "language_info": {
   "codemirror_mode": {
    "name": "ipython",
    "version": 3
   },
   "file_extension": ".py",
   "mimetype": "text/x-python",
   "name": "python",
   "nbconvert_exporter": "python",
   "pygments_lexer": "ipython3",
   "version": "3.6.9"
  }
 },
 "nbformat": 4,
 "nbformat_minor": 4
}
